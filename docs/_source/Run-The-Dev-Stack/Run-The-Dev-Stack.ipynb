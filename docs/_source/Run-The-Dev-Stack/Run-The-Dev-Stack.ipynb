{
 "cells": [
  {
   "cell_type": "markdown",
   "metadata": {},
   "source": [
    "# Run the Dev Stack\n",
    "\n",
    "The dev stack comes in 3 main flavors:\n",
    "\n",
    "1. Just the apps running and *nothing else*. This would be ideal if you have a database you would already like to connect to. \n",
    "2. The database structure with genepanel and analysis data added in with the Ella CLI.\n",
    "3. The database structure with a dump that includes some data that was analyzed in the Ella Web UI.\n",
    "\n",
    "Please keep in mind that options 1 and 2 are destructive and should only be used in a dev environment.\n",
    "\n",
    "You can see the Makefile in the root of the project repo for more information on various commands.\n",
    "\n",
    "## Bring up the stack\n",
    "\n",
    "This will build and bring up your docker dev stack.\n",
    "\n",
    "```bash\n",
    "make build\n",
    "make dev\n",
    "```\n",
    "\n",
    "## Create an Empty Ella Database\n",
    "\n",
    "This ONLY creates an empty schema.\n",
    "\n",
    "```bash\n",
    "make db\n",
    "```\n",
    "\n",
    "## Add in some demo data with the Ella CLI\n",
    "\n",
    "```bash\n",
    "make demo\n",
    "make ella_user=testuser1 user_reset_password\n",
    "```\n",
    "\n",
    "Then reset your password on the main login page.\n",
    "\n",
    "\n",
    "## Add the Demo Data, Analysis, and User Data\n",
    "\n",
    "```bash\n",
    "make load\n",
    "```\n",
    "\n",
    "Then you can login with testuser1 Password#123\n",
    "\n",
    "\n",
    "## Clean up\n",
    "\n",
    "```bash\n",
    "make clean\n",
    "```"
   ]
  }
 ],
 "metadata": {
  "kernelspec": {
   "display_name": "Python 3",
   "language": "python",
   "name": "python3"
  },
  "language_info": {
   "codemirror_mode": {
    "name": "ipython",
    "version": 3
   },
   "file_extension": ".py",
   "mimetype": "text/x-python",
   "name": "python",
   "nbconvert_exporter": "python",
   "pygments_lexer": "ipython3",
   "version": "3.7.5"
  }
 },
 "nbformat": 4,
 "nbformat_minor": 4
}
