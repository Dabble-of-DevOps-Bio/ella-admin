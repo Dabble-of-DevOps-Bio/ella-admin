{
 "cells": [
  {
   "cell_type": "markdown",
   "metadata": {},
   "source": [
    "# Create Custom GenePanels From Public Databases"
   ]
  },
  {
   "cell_type": "markdown",
   "metadata": {},
   "source": [
    "Let's create a series of dummy genome panels.\n",
    "\n",
    "*Disclaimer* I am not a variant scientist. Please use your best judgement and consult with a real expert when creating actual data for medical purposes.\n",
    "\n",
    "Given a phenotype file that looks like this:\n",
    "\n",
    "| Gene | NM_ |\tc. |\tp. |\n",
    "|---|---|---|---|\n",
    "|\tHBB\t|NM_000518.5\t|c.33C>A\t|p.Ala11Ala|\n",
    "|\tHBB\t| NM_000518.5\t| c.316-197C>T |\tNA |\n",
    "|\tBRCA2 |\tNM_000059.4 |\tc.9976A>T\t| p.Lys3326Ter |\n",
    "|\tMSH6\t|NM_000179.2 |\tc.30C>A |\tp.Phe10Leu |\n",
    "|\tRET | NM_020975.6 |\tc.1832G>A |\t p.Cys611Tyr |\n",
    "\n",
    "We are going to generate some dummy data for Ella given the above phenotypes.\n",
    "\n",
    "\n",
    "## Example - Query Public Databases for HBB c.33C>A\t|p.Ala11Ala\n",
    "\n",
    "First we will search for the first **HBB** record in gnomad. Make sure you are using v2 to be compatible with Ella Anno!\n",
    "\n",
    "Scroll to the bottom and you will see a variant table. \n",
    "\n",
    "![GnomAD Variant Table](./gnomad-variant-table.png)\n",
    "\n",
    "If you filter this table on **c.33C>A** nothing is found, but if you filter on **p.Ala11Ala** you'll get two records. [Click the first record](https://gnomad.broadinstitute.org/variant/11-5248219-G-T?dataset=gnomad_r2_1) and you will see more information, including an [RS#](https://www.ncbi.nlm.nih.gov/projects/SNP/snp_ref.cgi?rs=rs35799536) and a [Clinvar ID](https://www.ncbi.nlm.nih.gov/clinvar/variation/439155/). \n",
    "\n",
    "Click on the [RS#](https://www.ncbi.nlm.nih.gov/snp/rs35799536) to get the SNP report.\n",
    "\n",
    "![SNP Report](./hbb-dbsnp-rs-report.png)\n",
    "\n",
    "The important things to note there are the alleles and the **GR37** Coordinates. Make sure you are using the **GR37/hg19 reference genome!**.\n",
    "\n",
    "| Type | Value |\n",
    "| --- | --- |\n",
    "| Alleles | G>A / G>T |\n",
    "| GRCh37.p13 | chr 11\tNC_000011.9:g.5248219G>A |\n",
    "| GRCh37.p13 | chr 11\tNC_000011.9:g.5248219G>T |"
   ]
  },
  {
   "cell_type": "code",
   "execution_count": 1,
   "metadata": {},
   "outputs": [],
   "source": [
    "import os\n",
    "import pandas as pd\n",
    "import requests\n",
    "from pprint import pprint\n",
    "import numpy as np\n",
    "from datetime import datetime\n",
    "import json"
   ]
  },
  {
   "cell_type": "code",
   "execution_count": 2,
   "metadata": {},
   "outputs": [],
   "source": [
    "# I am really bad at naming things. \n",
    "GENEPANEL_NAME=\"test_all\"\n",
    "GENEPANEL_VERSION=\"v01\"\n",
    "\n",
    "BASE_PATH=\"/data\""
   ]
  },
  {
   "cell_type": "markdown",
   "metadata": {},
   "source": [
    "## Prepare the GenePanel CSV"
   ]
  },
  {
   "cell_type": "code",
   "execution_count": 3,
   "metadata": {},
   "outputs": [],
   "source": [
    "genepanel_transcript_columns = [\"#chromosome\",\"txStart\", \"txEnd\",\"refseq\", \"score\", \n",
    "                                \"strand\", \"geneSymbol\", \"HGNC\", \"Omim gene entry\", \"geneAlias\", \"eGeneID\",\n",
    "                                \"eTranscriptID\", \"cdsStart\", \"cdsEnd\", \"exonsStarts\", \"exonEnds\"]\n",
    "\n",
    "genepanel_phenotype_columns = ['#gene symbol',\n",
    " 'HGNC',\n",
    " 'remove (add x)',\n",
    " 'phenotype',\n",
    " 'inheritance',\n",
    " 'omim_number',\n",
    " 'pmid',\n",
    " 'inheritance info',\n",
    " 'comment']\n",
    "\n",
    "all_genepanel_transcripts_records = []\n",
    "all_genepanel_phenotypes_records = []\n",
    "\n",
    "vcf_info_line = \"\"\"##fileformat=VCFv4.1\n",
    "##contig=<ID=13>\n",
    "##FILTER=<ID=PASS,Description=\"All filters passed\">\n",
    "\"\"\"\n",
    "\n",
    "vcf_columns = [\"#CHROM\", \"POS\", \"ID\", \"REF\", \"ALT\", \"QUAL\", \"FILTER\", \"INFO\", \"FORMAT\", \"nrl_test_sample_1\"]\n",
    "\n",
    "def get_genepanel_info_line(genepanel_name, genepanel_version, date=None):\n",
    "    if date is None:\n",
    "        date = datetime.today().strftime('%Y-%m-%d')\n",
    "    return \"# Genepanel: {} Version: {} Date: {}\\n\".format(genepanel_name, genepanel_version, date)\n",
    "\n",
    "\n",
    "def write_pandas_csv_with_info_line(file_name, info_line, df):\n",
    "    with open(file_name, 'w') as fp:\n",
    "        fp.write(info_line)\n",
    "        df.to_csv(fp, index=False, sep=\"\\t\")\n",
    "\n",
    "\n",
    "def print_genepanel_phenotypes_file(data, genepanel_name, genepanel_version, date=None):\n",
    "    info_line = get_genepanel_info_line(genepanel_name, genepanel_version, date=None)   \n",
    "    df = pd.DataFrame(columns = genepanel_phenotype_columns, data=data)\n",
    "    df = df.replace(np.nan, '', regex=True)\n",
    "    genepanel_phenotypes_file_name = \"{name}_v{version}.phenotypes.csv\".format(name=genepanel_name,\n",
    "                                                                             version=genepanel_version)\n",
    "\n",
    "    write_pandas_csv_with_info_line(genepanel_phenotypes_file_name, info_line, df)\n",
    "    return df\n",
    "        \n",
    "def print_genepanel_transcripts_file(data, genepanel_name, genepanel_version, date=None):\n",
    "    info_line = get_genepanel_info_line(genepanel_name, genepanel_version, date=None)   \n",
    "    df = pd.DataFrame(columns = genepanel_transcript_columns, data=data)\n",
    "    df = df.replace(np.nan, '', regex=True)\n",
    "    \n",
    "    genepanel_transcripts_file_name = \"{name}_v{version}.transcripts.csv\".format(name=genepanel_name,\n",
    "                                                                             version=genepanel_version)\n",
    "\n",
    "    write_pandas_csv_with_info_line(genepanel_transcripts_file_name, info_line, df)\n",
    "    return df"
   ]
  },
  {
   "cell_type": "markdown",
   "metadata": {},
   "source": [
    "## Get Gene Panel Data from MyGene"
   ]
  },
  {
   "cell_type": "code",
   "execution_count": 4,
   "metadata": {},
   "outputs": [],
   "source": [
    "def get_gene_data_mygene(query, exon_index=0):\n",
    "    gene_data = requests.get(\"https://mygene.info/v3/gene/{}\".format(query))\n",
    "    gene_data = gene_data.json()\n",
    "    assert 'exons_hg19' in gene_data\n",
    "    assert 'genomic_pos_hg19' in gene_data\n",
    "    genomic_data = gene_data['genomic_pos_hg19']\n",
    "    chr = genomic_data['chr']\n",
    "    strand = gene_data['exons_hg19'][0]['strand']\n",
    "    if strand == 1:\n",
    "        strand = '+'\n",
    "    else:\n",
    "        strand = '-'\n",
    "    \n",
    "    mygene_txstart = gene_data['exons_hg19'][exon_index]['txstart']\n",
    "    mygene_txend = gene_data['exons_hg19'][exon_index]['txend']\n",
    "    mygene_cdsstart = gene_data['exons_hg19'][exon_index]['cdsstart']\n",
    "    mygene_cdsend = gene_data['exons_hg19'][exon_index]['cdsend']\n",
    "    \n",
    "    mygene_exons = np.array(gene_data['exons_hg19'][0]['position'], dtype =int)\n",
    "    mygene_exon_starts = mygene_exons[:,0]\n",
    "    mygene_exon_ends = mygene_exons[:,1]\n",
    "    \n",
    "    hgnc = gene_data['HGNC']\n",
    "    omim = gene_data['MIM']\n",
    "    alias = gene_data['alias']\n",
    "    etranscript_id = gene_data['ensembl']['transcript'][0]\n",
    "    \n",
    "    return {\n",
    "        \"#chromosome\": chr, \n",
    "        \"strand\": strand,\n",
    "        \"txStart\": mygene_txstart,\n",
    "        \"txEnd\": mygene_txend,\n",
    "        \"cdsStart\": mygene_cdsstart,\n",
    "        \"cdsEnd\": mygene_cdsend,\n",
    "        \"exonsStarts\": ','.join(np.array(mygene_exon_starts, dtype=str)),\n",
    "        \"exonEnds\": ','.join(np.array(mygene_exon_ends, dtype=str)),\n",
    "        \"Omim_gene_entry\" : omim,\n",
    "        \"HGNC\": hgnc,\n",
    "        \"geneAlias\": ','.join(alias),\n",
    "        \"eTranscriptID\": etranscript_id\n",
    "    }\n"
   ]
  },
  {
   "cell_type": "markdown",
   "metadata": {},
   "source": [
    "## Get the SNP Data for BRCA2 c.9976A>T\t p.Lys3326Ter\n",
    "\n",
    "BRCA2\tNM_000059.4\tc.9976A>T\t p.Lys3326Ter"
   ]
  },
  {
   "cell_type": "markdown",
   "metadata": {},
   "source": [
    "### BRCA2 Transcripts File"
   ]
  },
  {
   "cell_type": "code",
   "execution_count": 5,
   "metadata": {},
   "outputs": [],
   "source": [
    "# You may have some of these IDs already when you are creating a real gene panel. \n",
    "# Either fetch them from mygene or add them in manually\n",
    "# It's also a very good double check!\n",
    "# HGNC = 1101\n",
    "# Omim_gene_entry = 600185\n",
    "# geneAlias = \"FAD,FAD1,BRCC2,XRCC11\"\n",
    "\n",
    "refseq = \"NM_000059.3\"\n",
    "geneSymbol = \"BRCA2\"\n",
    "eTranscriptID = \"ENST00000544455\"\n",
    "geneSymbol = \"BRCA2\"\n",
    "\n",
    "# Query by the eGeneID - NO VERSION\n",
    "eGeneID = \"ENSG00000139618\""
   ]
  },
  {
   "cell_type": "code",
   "execution_count": 6,
   "metadata": {},
   "outputs": [
    {
     "data": {
      "text/html": [
       "<div>\n",
       "<style scoped>\n",
       "    .dataframe tbody tr th:only-of-type {\n",
       "        vertical-align: middle;\n",
       "    }\n",
       "\n",
       "    .dataframe tbody tr th {\n",
       "        vertical-align: top;\n",
       "    }\n",
       "\n",
       "    .dataframe thead th {\n",
       "        text-align: right;\n",
       "    }\n",
       "</style>\n",
       "<table border=\"1\" class=\"dataframe\">\n",
       "  <thead>\n",
       "    <tr style=\"text-align: right;\">\n",
       "      <th></th>\n",
       "      <th>#chromosome</th>\n",
       "      <th>strand</th>\n",
       "      <th>txStart</th>\n",
       "      <th>txEnd</th>\n",
       "      <th>cdsStart</th>\n",
       "      <th>cdsEnd</th>\n",
       "      <th>exonsStarts</th>\n",
       "      <th>exonEnds</th>\n",
       "      <th>Omim_gene_entry</th>\n",
       "      <th>HGNC</th>\n",
       "      <th>geneAlias</th>\n",
       "      <th>eTranscriptID</th>\n",
       "      <th>refseq</th>\n",
       "      <th>geneSymbol</th>\n",
       "      <th>eGeneID</th>\n",
       "    </tr>\n",
       "  </thead>\n",
       "  <tbody>\n",
       "    <tr>\n",
       "      <th>0</th>\n",
       "      <td>13</td>\n",
       "      <td>+</td>\n",
       "      <td>32889644</td>\n",
       "      <td>32974405</td>\n",
       "      <td>32890597</td>\n",
       "      <td>32972907</td>\n",
       "      <td>32889644,32890558,32893213,32899212,32900237,3...</td>\n",
       "      <td>32889804,32890664,32893462,32899321,32900287,3...</td>\n",
       "      <td>600185</td>\n",
       "      <td>1101</td>\n",
       "      <td>BRCC2,BROVCA2,FACD,FAD,FAD1,FANCD,FANCD1,GLM3,...</td>\n",
       "      <td>ENST00000544455</td>\n",
       "      <td>NM_000059.3</td>\n",
       "      <td>BRCA2</td>\n",
       "      <td>ENSG00000139618</td>\n",
       "    </tr>\n",
       "  </tbody>\n",
       "</table>\n",
       "</div>"
      ],
      "text/plain": [
       "  #chromosome strand   txStart     txEnd  cdsStart    cdsEnd  \\\n",
       "0          13      +  32889644  32974405  32890597  32972907   \n",
       "\n",
       "                                         exonsStarts  \\\n",
       "0  32889644,32890558,32893213,32899212,32900237,3...   \n",
       "\n",
       "                                            exonEnds Omim_gene_entry  HGNC  \\\n",
       "0  32889804,32890664,32893462,32899321,32900287,3...          600185  1101   \n",
       "\n",
       "                                           geneAlias    eTranscriptID  \\\n",
       "0  BRCC2,BROVCA2,FACD,FAD,FAD1,FANCD,FANCD1,GLM3,...  ENST00000544455   \n",
       "\n",
       "        refseq geneSymbol          eGeneID  \n",
       "0  NM_000059.3      BRCA2  ENSG00000139618  "
      ]
     },
     "execution_count": 6,
     "metadata": {},
     "output_type": "execute_result"
    }
   ],
   "source": [
    "gene_data = get_gene_data_mygene(eGeneID)\n",
    "# Update with our reference info\n",
    "gene_data['refseq'] = refseq\n",
    "gene_data['geneSymbol'] = geneSymbol\n",
    "gene_data['eGeneID'] = eGeneID\n",
    "gene_data['eTranscriptID'] = eTranscriptID\n",
    "\n",
    "pd.DataFrame.from_records([gene_data])"
   ]
  },
  {
   "cell_type": "markdown",
   "metadata": {},
   "source": [
    "### Phenotype Data\n",
    "\n",
    "This file is mostly created manually by looking at OMIM and Clinvar. You will have to use your best judgement when creating a phenotype file.\n",
    "\n",
    "OMIM is an excellent resource, and they ask you to sign up if you will require their database for querying. The HTML here comes directly from the website, and is only for demonstration purposes."
   ]
  },
  {
   "cell_type": "code",
   "execution_count": 7,
   "metadata": {},
   "outputs": [
    {
     "ename": "ImportError",
     "evalue": "lxml not found, please install it",
     "output_type": "error",
     "traceback": [
      "\u001b[0;31m---------------------------------------------------------------------------\u001b[0m",
      "\u001b[0;31mImportError\u001b[0m                               Traceback (most recent call last)",
      "\u001b[0;32m<ipython-input-7-8f3fe5c9a62a>\u001b[0m in \u001b[0;36m<module>\u001b[0;34m\u001b[0m\n\u001b[1;32m      1\u001b[0m \u001b[0mhtml_string\u001b[0m \u001b[0;34m=\u001b[0m \u001b[0;34m\"\"\"<table class=\"table table-bordered table-condensed table-hover mim-table-padding small\"> <thead> <tr class=\"active\"> <th> Location </th> <th> Phenotype </th> <th> Phenotype <br>MIM number </th> <th> Inheritance </th> <th> Phenotype <br>mapping key </th> </tr></thead> <tbody> <tr> <td rowspan=\"8\"> <span class=\"mim-font\"> <a href=\"/geneMap/13/77?start=-3&amp;limit=10&amp;highlight=77\"> 13q13.1 </a> </span> </td><td> <span class=\"mim-font\">{Breast cancer, male, susceptibility to}</span> </td><td> <span class=\"mim-font\"> <a href=\"/entry/114480\"> 114480 </a> </span> </td><td> <span class=\"mim-font\"> <abbr class=\"mim-hint\" data-hasqtip=\"51\" oldtitle=\"Autosomal dominant\" title=\"\">AD</abbr>, <abbr class=\"mim-hint\" data-hasqtip=\"52\" oldtitle=\"Somatic mutation\" title=\"\">SMu</abbr> </span> </td><td> <span class=\"mim-font\"> <abbr class=\"mim-hint\" data-hasqtip=\"53\" oldtitle=\"3 - The molecular basis of the disorder is known\" title=\"\">3</abbr> </span> </td></tr><tr> <td> <span class=\"mim-font\">{Breast-ovarian cancer, familial, 2}</span> </td><td> <span class=\"mim-font\"> <a href=\"/entry/612555\"> 612555 </a> </span> </td><td> <span class=\"mim-font\"> <abbr class=\"mim-hint\" data-hasqtip=\"54\" oldtitle=\"Autosomal dominant\" title=\"\">AD</abbr> </span> </td><td> <span class=\"mim-font\"> <abbr class=\"mim-hint\" data-hasqtip=\"55\" oldtitle=\"3 - The molecular basis of the disorder is known\" title=\"\">3</abbr> </span> </td></tr><tr> <td> <span class=\"mim-font\">{Glioblastoma 3}</span> </td><td> <span class=\"mim-font\"> <a href=\"/entry/613029\"> 613029 </a> </span> </td><td> <span class=\"mim-font\"> <abbr class=\"mim-hint\" data-hasqtip=\"56\" oldtitle=\"Autosomal recessive\" title=\"\">AR</abbr> </span> </td><td> <span class=\"mim-font\"> <abbr class=\"mim-hint\" data-hasqtip=\"57\" oldtitle=\"3 - The molecular basis of the disorder is known\" title=\"\">3</abbr> </span> </td></tr><tr> <td> <span class=\"mim-font\">{Medulloblastoma}</span> </td><td> <span class=\"mim-font\"> <a href=\"/entry/155255\"> 155255 </a> </span> </td><td> <span class=\"mim-font\"> <abbr class=\"mim-hint\" data-hasqtip=\"58\" oldtitle=\"Autosomal dominant\" title=\"\">AD</abbr>, <abbr class=\"mim-hint\" data-hasqtip=\"59\" oldtitle=\"Autosomal recessive\" title=\"\">AR</abbr>, <abbr class=\"mim-hint\" data-hasqtip=\"60\" oldtitle=\"Somatic mutation\" title=\"\">SMu</abbr> </span> </td><td> <span class=\"mim-font\"> <abbr class=\"mim-hint\" data-hasqtip=\"61\" oldtitle=\"3 - The molecular basis of the disorder is known\" title=\"\">3</abbr> </span> </td></tr><tr> <td> <span class=\"mim-font\">{Pancreatic cancer 2}</span> </td><td> <span class=\"mim-font\"> <a href=\"/entry/613347\"> 613347 </a> </span> </td><td> <span class=\"mim-font\"> </span> </td><td> <span class=\"mim-font\"> <abbr class=\"mim-hint\" data-hasqtip=\"62\" oldtitle=\"3 - The molecular basis of the disorder is known\" title=\"\">3</abbr> </span> </td></tr><tr> <td> <span class=\"mim-font\">{Prostate cancer}</span> </td><td> <span class=\"mim-font\"> <a href=\"/entry/176807\"> 176807 </a> </span> </td><td> <span class=\"mim-font\"> <abbr class=\"mim-hint\" data-hasqtip=\"63\" oldtitle=\"Autosomal dominant\" title=\"\">AD</abbr>, <abbr class=\"mim-hint\" data-hasqtip=\"64\" oldtitle=\"Somatic mutation\" title=\"\">SMu</abbr> </span> </td><td> <span class=\"mim-font\"> <abbr class=\"mim-hint\" data-hasqtip=\"65\" oldtitle=\"3 - The molecular basis of the disorder is known\" title=\"\">3</abbr> </span> </td></tr><tr> <td> <span class=\"mim-font\"> Fanconi anemia, complementation group D1 </span> </td><td> <span class=\"mim-font\"> <a href=\"/entry/605724\"> 605724 </a> </span> </td><td> <span class=\"mim-font\"> <abbr class=\"mim-hint\" data-hasqtip=\"66\" oldtitle=\"Autosomal recessive\" title=\"\">AR</abbr> </span> </td><td> <span class=\"mim-font\"> <abbr class=\"mim-hint\" data-hasqtip=\"67\" oldtitle=\"3 - The molecular basis of the disorder is known\" title=\"\">3</abbr> </span> </td></tr><tr> <td> <span class=\"mim-font\"> Wilms tumor </span> </td><td> <span class=\"mim-font\"> <a href=\"/entry/194070\"> 194070 </a> </span> </td><td> <span class=\"mim-font\"> <abbr class=\"mim-hint\" data-hasqtip=\"68\" oldtitle=\"Autosomal dominant\" title=\"\">AD</abbr>, <abbr class=\"mim-hint\" data-hasqtip=\"69\" oldtitle=\"Somatic mutation\" title=\"\">SMu</abbr> </span> </td><td> <span class=\"mim-font\"> <abbr class=\"mim-hint\" data-hasqtip=\"70\" oldtitle=\"3 - The molecular basis of the disorder is known\" title=\"\">3</abbr> </span> </td></tr></tbody> </table>\"\"\"\u001b[0m\u001b[0;34m\u001b[0m\u001b[0;34m\u001b[0m\u001b[0m\n\u001b[0;32m----> 2\u001b[0;31m \u001b[0mdfs\u001b[0m \u001b[0;34m=\u001b[0m \u001b[0mpd\u001b[0m\u001b[0;34m.\u001b[0m\u001b[0mread_html\u001b[0m\u001b[0;34m(\u001b[0m\u001b[0mhtml_string\u001b[0m\u001b[0;34m)\u001b[0m\u001b[0;34m\u001b[0m\u001b[0;34m\u001b[0m\u001b[0m\n\u001b[0m\u001b[1;32m      3\u001b[0m \u001b[0mdfs\u001b[0m\u001b[0;34m[\u001b[0m\u001b[0;36m0\u001b[0m\u001b[0;34m]\u001b[0m\u001b[0;34m\u001b[0m\u001b[0;34m\u001b[0m\u001b[0m\n",
      "\u001b[0;32m/usr/local/lib/python3.8/site-packages/pandas/util/_decorators.py\u001b[0m in \u001b[0;36mwrapper\u001b[0;34m(*args, **kwargs)\u001b[0m\n\u001b[1;32m    294\u001b[0m                 )\n\u001b[1;32m    295\u001b[0m                 \u001b[0mwarnings\u001b[0m\u001b[0;34m.\u001b[0m\u001b[0mwarn\u001b[0m\u001b[0;34m(\u001b[0m\u001b[0mmsg\u001b[0m\u001b[0;34m,\u001b[0m \u001b[0mFutureWarning\u001b[0m\u001b[0;34m,\u001b[0m \u001b[0mstacklevel\u001b[0m\u001b[0;34m=\u001b[0m\u001b[0mstacklevel\u001b[0m\u001b[0;34m)\u001b[0m\u001b[0;34m\u001b[0m\u001b[0;34m\u001b[0m\u001b[0m\n\u001b[0;32m--> 296\u001b[0;31m             \u001b[0;32mreturn\u001b[0m \u001b[0mfunc\u001b[0m\u001b[0;34m(\u001b[0m\u001b[0;34m*\u001b[0m\u001b[0margs\u001b[0m\u001b[0;34m,\u001b[0m \u001b[0;34m**\u001b[0m\u001b[0mkwargs\u001b[0m\u001b[0;34m)\u001b[0m\u001b[0;34m\u001b[0m\u001b[0;34m\u001b[0m\u001b[0m\n\u001b[0m\u001b[1;32m    297\u001b[0m \u001b[0;34m\u001b[0m\u001b[0m\n\u001b[1;32m    298\u001b[0m         \u001b[0;32mreturn\u001b[0m \u001b[0mwrapper\u001b[0m\u001b[0;34m\u001b[0m\u001b[0;34m\u001b[0m\u001b[0m\n",
      "\u001b[0;32m/usr/local/lib/python3.8/site-packages/pandas/io/html.py\u001b[0m in \u001b[0;36mread_html\u001b[0;34m(io, match, flavor, header, index_col, skiprows, attrs, parse_dates, thousands, encoding, decimal, converters, na_values, keep_default_na, displayed_only)\u001b[0m\n\u001b[1;32m   1084\u001b[0m         )\n\u001b[1;32m   1085\u001b[0m     \u001b[0mvalidate_header_arg\u001b[0m\u001b[0;34m(\u001b[0m\u001b[0mheader\u001b[0m\u001b[0;34m)\u001b[0m\u001b[0;34m\u001b[0m\u001b[0;34m\u001b[0m\u001b[0m\n\u001b[0;32m-> 1086\u001b[0;31m     return _parse(\n\u001b[0m\u001b[1;32m   1087\u001b[0m         \u001b[0mflavor\u001b[0m\u001b[0;34m=\u001b[0m\u001b[0mflavor\u001b[0m\u001b[0;34m,\u001b[0m\u001b[0;34m\u001b[0m\u001b[0;34m\u001b[0m\u001b[0m\n\u001b[1;32m   1088\u001b[0m         \u001b[0mio\u001b[0m\u001b[0;34m=\u001b[0m\u001b[0mio\u001b[0m\u001b[0;34m,\u001b[0m\u001b[0;34m\u001b[0m\u001b[0;34m\u001b[0m\u001b[0m\n",
      "\u001b[0;32m/usr/local/lib/python3.8/site-packages/pandas/io/html.py\u001b[0m in \u001b[0;36m_parse\u001b[0;34m(flavor, io, match, attrs, encoding, displayed_only, **kwargs)\u001b[0m\n\u001b[1;32m    892\u001b[0m     \u001b[0mretained\u001b[0m \u001b[0;34m=\u001b[0m \u001b[0;32mNone\u001b[0m\u001b[0;34m\u001b[0m\u001b[0;34m\u001b[0m\u001b[0m\n\u001b[1;32m    893\u001b[0m     \u001b[0;32mfor\u001b[0m \u001b[0mflav\u001b[0m \u001b[0;32min\u001b[0m \u001b[0mflavor\u001b[0m\u001b[0;34m:\u001b[0m\u001b[0;34m\u001b[0m\u001b[0;34m\u001b[0m\u001b[0m\n\u001b[0;32m--> 894\u001b[0;31m         \u001b[0mparser\u001b[0m \u001b[0;34m=\u001b[0m \u001b[0m_parser_dispatch\u001b[0m\u001b[0;34m(\u001b[0m\u001b[0mflav\u001b[0m\u001b[0;34m)\u001b[0m\u001b[0;34m\u001b[0m\u001b[0;34m\u001b[0m\u001b[0m\n\u001b[0m\u001b[1;32m    895\u001b[0m         \u001b[0mp\u001b[0m \u001b[0;34m=\u001b[0m \u001b[0mparser\u001b[0m\u001b[0;34m(\u001b[0m\u001b[0mio\u001b[0m\u001b[0;34m,\u001b[0m \u001b[0mcompiled_match\u001b[0m\u001b[0;34m,\u001b[0m \u001b[0mattrs\u001b[0m\u001b[0;34m,\u001b[0m \u001b[0mencoding\u001b[0m\u001b[0;34m,\u001b[0m \u001b[0mdisplayed_only\u001b[0m\u001b[0;34m)\u001b[0m\u001b[0;34m\u001b[0m\u001b[0;34m\u001b[0m\u001b[0m\n\u001b[1;32m    896\u001b[0m \u001b[0;34m\u001b[0m\u001b[0m\n",
      "\u001b[0;32m/usr/local/lib/python3.8/site-packages/pandas/io/html.py\u001b[0m in \u001b[0;36m_parser_dispatch\u001b[0;34m(flavor)\u001b[0m\n\u001b[1;32m    849\u001b[0m     \u001b[0;32melse\u001b[0m\u001b[0;34m:\u001b[0m\u001b[0;34m\u001b[0m\u001b[0;34m\u001b[0m\u001b[0m\n\u001b[1;32m    850\u001b[0m         \u001b[0;32mif\u001b[0m \u001b[0;32mnot\u001b[0m \u001b[0m_HAS_LXML\u001b[0m\u001b[0;34m:\u001b[0m\u001b[0;34m\u001b[0m\u001b[0;34m\u001b[0m\u001b[0m\n\u001b[0;32m--> 851\u001b[0;31m             \u001b[0;32mraise\u001b[0m \u001b[0mImportError\u001b[0m\u001b[0;34m(\u001b[0m\u001b[0;34m\"lxml not found, please install it\"\u001b[0m\u001b[0;34m)\u001b[0m\u001b[0;34m\u001b[0m\u001b[0;34m\u001b[0m\u001b[0m\n\u001b[0m\u001b[1;32m    852\u001b[0m     \u001b[0;32mreturn\u001b[0m \u001b[0m_valid_parsers\u001b[0m\u001b[0;34m[\u001b[0m\u001b[0mflavor\u001b[0m\u001b[0;34m]\u001b[0m\u001b[0;34m\u001b[0m\u001b[0;34m\u001b[0m\u001b[0m\n\u001b[1;32m    853\u001b[0m \u001b[0;34m\u001b[0m\u001b[0m\n",
      "\u001b[0;31mImportError\u001b[0m: lxml not found, please install it"
     ]
    }
   ],
   "source": [
    "html_string = \"\"\"<table class=\"table table-bordered table-condensed table-hover mim-table-padding small\"> <thead> <tr class=\"active\"> <th> Location </th> <th> Phenotype </th> <th> Phenotype <br>MIM number </th> <th> Inheritance </th> <th> Phenotype <br>mapping key </th> </tr></thead> <tbody> <tr> <td rowspan=\"8\"> <span class=\"mim-font\"> <a href=\"/geneMap/13/77?start=-3&amp;limit=10&amp;highlight=77\"> 13q13.1 </a> </span> </td><td> <span class=\"mim-font\">{Breast cancer, male, susceptibility to}</span> </td><td> <span class=\"mim-font\"> <a href=\"/entry/114480\"> 114480 </a> </span> </td><td> <span class=\"mim-font\"> <abbr class=\"mim-hint\" data-hasqtip=\"51\" oldtitle=\"Autosomal dominant\" title=\"\">AD</abbr>, <abbr class=\"mim-hint\" data-hasqtip=\"52\" oldtitle=\"Somatic mutation\" title=\"\">SMu</abbr> </span> </td><td> <span class=\"mim-font\"> <abbr class=\"mim-hint\" data-hasqtip=\"53\" oldtitle=\"3 - The molecular basis of the disorder is known\" title=\"\">3</abbr> </span> </td></tr><tr> <td> <span class=\"mim-font\">{Breast-ovarian cancer, familial, 2}</span> </td><td> <span class=\"mim-font\"> <a href=\"/entry/612555\"> 612555 </a> </span> </td><td> <span class=\"mim-font\"> <abbr class=\"mim-hint\" data-hasqtip=\"54\" oldtitle=\"Autosomal dominant\" title=\"\">AD</abbr> </span> </td><td> <span class=\"mim-font\"> <abbr class=\"mim-hint\" data-hasqtip=\"55\" oldtitle=\"3 - The molecular basis of the disorder is known\" title=\"\">3</abbr> </span> </td></tr><tr> <td> <span class=\"mim-font\">{Glioblastoma 3}</span> </td><td> <span class=\"mim-font\"> <a href=\"/entry/613029\"> 613029 </a> </span> </td><td> <span class=\"mim-font\"> <abbr class=\"mim-hint\" data-hasqtip=\"56\" oldtitle=\"Autosomal recessive\" title=\"\">AR</abbr> </span> </td><td> <span class=\"mim-font\"> <abbr class=\"mim-hint\" data-hasqtip=\"57\" oldtitle=\"3 - The molecular basis of the disorder is known\" title=\"\">3</abbr> </span> </td></tr><tr> <td> <span class=\"mim-font\">{Medulloblastoma}</span> </td><td> <span class=\"mim-font\"> <a href=\"/entry/155255\"> 155255 </a> </span> </td><td> <span class=\"mim-font\"> <abbr class=\"mim-hint\" data-hasqtip=\"58\" oldtitle=\"Autosomal dominant\" title=\"\">AD</abbr>, <abbr class=\"mim-hint\" data-hasqtip=\"59\" oldtitle=\"Autosomal recessive\" title=\"\">AR</abbr>, <abbr class=\"mim-hint\" data-hasqtip=\"60\" oldtitle=\"Somatic mutation\" title=\"\">SMu</abbr> </span> </td><td> <span class=\"mim-font\"> <abbr class=\"mim-hint\" data-hasqtip=\"61\" oldtitle=\"3 - The molecular basis of the disorder is known\" title=\"\">3</abbr> </span> </td></tr><tr> <td> <span class=\"mim-font\">{Pancreatic cancer 2}</span> </td><td> <span class=\"mim-font\"> <a href=\"/entry/613347\"> 613347 </a> </span> </td><td> <span class=\"mim-font\"> </span> </td><td> <span class=\"mim-font\"> <abbr class=\"mim-hint\" data-hasqtip=\"62\" oldtitle=\"3 - The molecular basis of the disorder is known\" title=\"\">3</abbr> </span> </td></tr><tr> <td> <span class=\"mim-font\">{Prostate cancer}</span> </td><td> <span class=\"mim-font\"> <a href=\"/entry/176807\"> 176807 </a> </span> </td><td> <span class=\"mim-font\"> <abbr class=\"mim-hint\" data-hasqtip=\"63\" oldtitle=\"Autosomal dominant\" title=\"\">AD</abbr>, <abbr class=\"mim-hint\" data-hasqtip=\"64\" oldtitle=\"Somatic mutation\" title=\"\">SMu</abbr> </span> </td><td> <span class=\"mim-font\"> <abbr class=\"mim-hint\" data-hasqtip=\"65\" oldtitle=\"3 - The molecular basis of the disorder is known\" title=\"\">3</abbr> </span> </td></tr><tr> <td> <span class=\"mim-font\"> Fanconi anemia, complementation group D1 </span> </td><td> <span class=\"mim-font\"> <a href=\"/entry/605724\"> 605724 </a> </span> </td><td> <span class=\"mim-font\"> <abbr class=\"mim-hint\" data-hasqtip=\"66\" oldtitle=\"Autosomal recessive\" title=\"\">AR</abbr> </span> </td><td> <span class=\"mim-font\"> <abbr class=\"mim-hint\" data-hasqtip=\"67\" oldtitle=\"3 - The molecular basis of the disorder is known\" title=\"\">3</abbr> </span> </td></tr><tr> <td> <span class=\"mim-font\"> Wilms tumor </span> </td><td> <span class=\"mim-font\"> <a href=\"/entry/194070\"> 194070 </a> </span> </td><td> <span class=\"mim-font\"> <abbr class=\"mim-hint\" data-hasqtip=\"68\" oldtitle=\"Autosomal dominant\" title=\"\">AD</abbr>, <abbr class=\"mim-hint\" data-hasqtip=\"69\" oldtitle=\"Somatic mutation\" title=\"\">SMu</abbr> </span> </td><td> <span class=\"mim-font\"> <abbr class=\"mim-hint\" data-hasqtip=\"70\" oldtitle=\"3 - The molecular basis of the disorder is known\" title=\"\">3</abbr> </span> </td></tr></tbody> </table>\"\"\"\n",
    "dfs = pd.read_html(html_string)\n",
    "dfs[0]"
   ]
  },
  {
   "cell_type": "code",
   "execution_count": null,
   "metadata": {},
   "outputs": [],
   "source": [
    "phenotype_data = []\n",
    "for index, row in dfs[0].iterrows():\n",
    "    phenotype_data.append({\n",
    "    \"#gene symbol\": \"BRCA2\",\n",
    "    \"HGNC\": int(gene_data[\"HGNC\"]),\n",
    "    \"phenotype\": row[\"Phenotype\"],\n",
    "    \"inheritance\": row[\"Inheritance\"],\n",
    "    \"omim_number\": row[\"Phenotype MIM number\"],\n",
    "    \"pmid\": \"\",\n",
    "    \"inheritance info\": \"\",\n",
    "    \"comment\": \"\",\n",
    "    \"remove (add x)\": \"\",\n",
    "    })\n"
   ]
  },
  {
   "cell_type": "code",
   "execution_count": null,
   "metadata": {},
   "outputs": [],
   "source": [
    "all_genepanel_transcripts_records.append(gene_data)\n",
    "for p in phenotype_data:\n",
    "    all_genepanel_phenotypes_records.append(p)"
   ]
  },
  {
   "cell_type": "markdown",
   "metadata": {},
   "source": [
    "## Get the SNP Data for HBB c.33C>A\tp.Ala11Ala\n",
    "\n",
    "HBB\tNM_000518.5\tc.33C>A\tp.Ala11Ala\n",
    "\n",
    "https://www.ncbi.nlm.nih.gov/gene/3043\n",
    "\n",
    "Ensembl:ENSG00000244734 MIM:141900\n",
    "\n",
    "SNP Info for p.Ala11Ala\n",
    "\n",
    "RS - https://www.ncbi.nlm.nih.gov/snp/rs35799536\n",
    "\n",
    "GRCh37.p13 chr 11\tNC_000011.9:g.5248219G>A\n",
    "\n",
    "GRCh37.p13 chr 11\tNC_000011.9:g.5248219G>T\n",
    "\n",
    "I can't find the exact phenotype the variant scientist is looking for so I will come back.  I can find `p.Ala11Ala`, but not `c.33C>A`\n",
    "\n",
    "### Clinvar c.33C>A\tp.Ala11Ala\n",
    "\n",
    "https://www.ncbi.nlm.nih.gov/clinvar/variation/439155/\n",
    "\n",
    "11: 5248219 (GRCh37) C -> A"
   ]
  },
  {
   "cell_type": "code",
   "execution_count": null,
   "metadata": {},
   "outputs": [],
   "source": [
    "refseq = \"NM_000518.5\"\n",
    "geneSymbol = \"HBB\"\n",
    "# We're grabbing the canonical transcriptID from gnomad\n",
    "eTranscriptID = \"ENST00000335295\"\n",
    "\n",
    "# Query by the eGeneID - NO VERSION\n",
    "eGeneID = \"ENSG00000244734\""
   ]
  },
  {
   "cell_type": "code",
   "execution_count": null,
   "metadata": {},
   "outputs": [],
   "source": [
    "gene_data = get_gene_data_mygene(eGeneID)\n",
    "gene_data['refseq'] = refseq\n",
    "gene_data['geneSymbol'] = geneSymbol\n",
    "gene_data['eGeneID'] = eGeneID\n",
    "gene_data['eTranscriptID'] = eTranscriptID\n",
    "pd.DataFrame.from_records([gene_data])"
   ]
  },
  {
   "cell_type": "code",
   "execution_count": null,
   "metadata": {},
   "outputs": [],
   "source": [
    "html_string = \"\"\"<table class=\"table table-bordered table-condensed table-hover mim-table-padding small\"> <thead> <tr class=\"active\"> <th> Location </th> <th> Phenotype </th> <th> Phenotype <br>MIM number </th> <th> Inheritance </th> <th> Phenotype <br>mapping key </th> </tr></thead> <tbody> <tr> <td rowspan=\"9\"> <span class=\"mim-font\"> <a href=\"/geneMap/11/108?start=-3&amp;limit=10&amp;highlight=108\"> 11p15.4 </a> </span> </td><td> <span class=\"mim-font\">{Malaria, resistance to}</span> </td><td> <span class=\"mim-font\"> <a href=\"/entry/611162\"> 611162 </a> </span> </td><td> <span class=\"mim-font\"> </span> </td><td> <span class=\"mim-font\"> <abbr class=\"mim-hint\" data-hasqtip=\"54\" oldtitle=\"3 - The molecular basis of the disorder is known\" title=\"\">3</abbr> </span> </td></tr><tr> <td> <span class=\"mim-font\"> Delta-beta thalassemia </span> </td><td> <span class=\"mim-font\"> <a href=\"/entry/141749\"> 141749 </a> </span> </td><td> <span class=\"mim-font\"> <abbr class=\"mim-hint\" data-hasqtip=\"55\" oldtitle=\"Autosomal dominant\" title=\"\">AD</abbr> </span> </td><td> <span class=\"mim-font\"> <abbr class=\"mim-hint\" data-hasqtip=\"56\" oldtitle=\"3 - The molecular basis of the disorder is known\" title=\"\">3</abbr> </span> </td></tr><tr> <td> <span class=\"mim-font\"> Erythrocytosis 6 </span> </td><td> <span class=\"mim-font\"> <a href=\"/entry/617980\"> 617980 </a> </span> </td><td> <span class=\"mim-font\"> </span> </td><td> <span class=\"mim-font\"> <abbr class=\"mim-hint\" data-hasqtip=\"57\" oldtitle=\"3 - The molecular basis of the disorder is known\" title=\"\">3</abbr> </span> </td></tr><tr> <td> <span class=\"mim-font\"> Heinz body anemia </span> </td><td> <span class=\"mim-font\"> <a href=\"/entry/140700\"> 140700 </a> </span> </td><td> <span class=\"mim-font\"> <abbr class=\"mim-hint\" data-hasqtip=\"58\" oldtitle=\"Autosomal dominant\" title=\"\">AD</abbr> </span> </td><td> <span class=\"mim-font\"> <abbr class=\"mim-hint\" data-hasqtip=\"59\" oldtitle=\"3 - The molecular basis of the disorder is known\" title=\"\">3</abbr> </span> </td></tr><tr> <td> <span class=\"mim-font\"> Hereditary persistence of fetal hemoglobin </span> </td><td> <span class=\"mim-font\"> <a href=\"/entry/141749\"> 141749 </a> </span> </td><td> <span class=\"mim-font\"> <abbr class=\"mim-hint\" data-hasqtip=\"60\" oldtitle=\"Autosomal dominant\" title=\"\">AD</abbr> </span> </td><td> <span class=\"mim-font\"> <abbr class=\"mim-hint\" data-hasqtip=\"61\" oldtitle=\"3 - The molecular basis of the disorder is known\" title=\"\">3</abbr> </span> </td></tr><tr> <td> <span class=\"mim-font\"> Methemoglobinemia, beta type </span> </td><td> <span class=\"mim-font\"> <a href=\"/entry/617971\"> 617971 </a> </span> </td><td> <span class=\"mim-font\"> </span> </td><td> <span class=\"mim-font\"> <abbr class=\"mim-hint\" data-hasqtip=\"62\" oldtitle=\"3 - The molecular basis of the disorder is known\" title=\"\">3</abbr> </span> </td></tr><tr> <td> <span class=\"mim-font\"> Sickle cell anemia </span> </td><td> <span class=\"mim-font\"> <a href=\"/entry/603903\"> 603903 </a> </span> </td><td> <span class=\"mim-font\"> <abbr class=\"mim-hint\" data-hasqtip=\"63\" oldtitle=\"Autosomal recessive\" title=\"\">AR</abbr> </span> </td><td> <span class=\"mim-font\"> <abbr class=\"mim-hint\" data-hasqtip=\"64\" oldtitle=\"3 - The molecular basis of the disorder is known\" title=\"\">3</abbr> </span> </td></tr><tr> <td> <span class=\"mim-font\"> Thalassemia-beta, dominant inclusion-body </span> </td><td> <span class=\"mim-font\"> <a href=\"/entry/603902\"> 603902 </a> </span> </td><td> <span class=\"mim-font\"> </span> </td><td> <span class=\"mim-font\"> <abbr class=\"mim-hint\" data-hasqtip=\"65\" oldtitle=\"3 - The molecular basis of the disorder is known\" title=\"\">3</abbr> </span> </td></tr><tr> <td> <span class=\"mim-font\"> Thalassemia, beta </span> </td><td> <span class=\"mim-font\"> <a href=\"/entry/613985\"> 613985 </a> </span> </td><td> <span class=\"mim-font\"> </span> </td><td> <span class=\"mim-font\"> <abbr class=\"mim-hint\" data-hasqtip=\"66\" oldtitle=\"3 - The molecular basis of the disorder is known\" title=\"\">3</abbr> </span> </td></tr></tbody></table>\"\"\"\n",
    "dfs = pd.read_html(html_string)\n",
    "\n",
    "phenotype_data = []\n",
    "for index, row in dfs[0].iterrows():\n",
    "    phenotype_data.append({\n",
    "    \"#gene symbol\": geneSymbol,\n",
    "    \"HGNC\": int(gene_data[\"HGNC\"]),\n",
    "    \"phenotype\": row[\"Phenotype\"],\n",
    "    \"inheritance\": row[\"Inheritance\"],\n",
    "    \"omim_number\": row[\"Phenotype MIM number\"],\n",
    "    \"pmid\": \"\",\n",
    "    \"inheritance info\": \"\",\n",
    "    \"comment\": \"\",\n",
    "    \"remove (add x)\": \"\",\n",
    "    })\n"
   ]
  },
  {
   "cell_type": "code",
   "execution_count": null,
   "metadata": {},
   "outputs": [],
   "source": [
    "all_genepanel_transcripts_records.append(gene_data)\n",
    "for p in phenotype_data:\n",
    "    all_genepanel_phenotypes_records.append(p)"
   ]
  },
  {
   "cell_type": "markdown",
   "metadata": {},
   "source": [
    "## Get the SNP Data for MSH6 c.30C>A \tp.Phe10Leu\n",
    "\n",
    "MSH6\tNM_000179.2\tc.30C>A \tp.Phe10Leu\n",
    "\n",
    "eGeneId ENSG00000116062.10\n",
    "\n",
    "Gnomad Variant ID for p.Phe10Leu - https://gnomad.broadinstitute.org/variant/2-48010400-T-C?dataset=gnomad_r2_1\n",
    "\n",
    "RS - https://www.ncbi.nlm.nih.gov/snp/rs773861137\n",
    "\n",
    "GRCh37.p13 chr 2\tNC_000002.11:g.48010400T>C"
   ]
  },
  {
   "cell_type": "code",
   "execution_count": null,
   "metadata": {},
   "outputs": [],
   "source": [
    "eGeneID=\"ENSG00000116062\"\n",
    "eTranscriptID=\"ENST00000234420\"\n",
    "refseq=\"NM_000179.2\"\n",
    "geneSymbol=\"MSH6\""
   ]
  },
  {
   "cell_type": "code",
   "execution_count": null,
   "metadata": {},
   "outputs": [],
   "source": [
    "gene_data = get_gene_data_mygene(eGeneID)\n",
    "gene_data['refseq'] = refseq\n",
    "gene_data['geneSymbol'] = geneSymbol\n",
    "gene_data['eGeneID'] = eGeneID\n",
    "gene_data['eTranscriptID'] = eTranscriptID\n",
    "\n",
    "pd.DataFrame.from_records([gene_data])"
   ]
  },
  {
   "cell_type": "code",
   "execution_count": null,
   "metadata": {},
   "outputs": [],
   "source": [
    "html_string = \"\"\"<table class=\"table table-bordered table-condensed table-hover mim-table-padding small\"> <thead> <tr class=\"active\"> <th> Location </th> <th> Phenotype </th> <th> Phenotype <br>MIM number </th> <th> Inheritance </th> <th> Phenotype <br>mapping key </th> </tr></thead> <tbody> <tr> <td rowspan=\"3\"> <span class=\"mim-font\"> <a href=\"/geneMap/2/227?start=-3&amp;limit=10&amp;highlight=227\"> 2p16.3 </a> </span> </td><td> <span class=\"mim-font\">{Endometrial cancer, familial}</span> </td><td> <span class=\"mim-font\"> <a href=\"/entry/608089\"> 608089 </a> </span> </td><td> <span class=\"mim-font\"> <abbr class=\"mim-hint\" data-hasqtip=\"54\" oldtitle=\"Autosomal dominant\" title=\"\">AD</abbr>, <abbr class=\"mim-hint\" data-hasqtip=\"55\" oldtitle=\"Somatic mutation\" title=\"\">SMu</abbr> </span> </td><td> <span class=\"mim-font\"> <abbr class=\"mim-hint\" data-hasqtip=\"56\" oldtitle=\"3 - The molecular basis of the disorder is known\" title=\"\">3</abbr> </span> </td></tr><tr> <td> <span class=\"mim-font\"> Colorectal cancer, hereditary nonpolyposis, type 5 </span> </td><td> <span class=\"mim-font\"> <a href=\"/entry/614350\"> 614350 </a> </span> </td><td> <span class=\"mim-font\"> <abbr class=\"mim-hint\" data-hasqtip=\"57\" oldtitle=\"Autosomal dominant\" title=\"\">AD</abbr> </span> </td><td> <span class=\"mim-font\"> <abbr class=\"mim-hint\" data-hasqtip=\"58\" oldtitle=\"3 - The molecular basis of the disorder is known\" title=\"\">3</abbr> </span> </td></tr><tr> <td> <span class=\"mim-font\"> Mismatch repair cancer syndrome </span> </td><td> <span class=\"mim-font\"> <a href=\"/entry/276300\"> 276300 </a> </span> </td><td> <span class=\"mim-font\"> <abbr class=\"mim-hint\" data-hasqtip=\"59\" oldtitle=\"Autosomal recessive\" title=\"\">AR</abbr> </span> </td><td> <span class=\"mim-font\"> <abbr class=\"mim-hint\" data-hasqtip=\"60\" oldtitle=\"3 - The molecular basis of the disorder is known\" title=\"\">3</abbr> </span> </td></tr></tbody> </table>\"\"\"\n",
    "\n",
    "dfs = pd.read_html(html_string)\n",
    "dfs[0]"
   ]
  },
  {
   "cell_type": "code",
   "execution_count": null,
   "metadata": {},
   "outputs": [],
   "source": [
    "phenotype_data = []\n",
    "for index, row in dfs[0].iterrows():\n",
    "    phenotype_data.append({\n",
    "    \"#gene symbol\": geneSymbol,\n",
    "    \"HGNC\": int(gene_data[\"HGNC\"]),\n",
    "    \"phenotype\": row[\"Phenotype\"],\n",
    "    \"inheritance\": row[\"Inheritance\"],\n",
    "    \"omim_number\": row[\"Phenotype MIM number\"],\n",
    "    \"pmid\": \"\",\n",
    "    \"inheritance info\": \"\",\n",
    "    \"comment\": \"\",\n",
    "    \"remove (add x)\": \"\",\n",
    "    })"
   ]
  },
  {
   "cell_type": "code",
   "execution_count": null,
   "metadata": {},
   "outputs": [],
   "source": [
    "all_genepanel_transcripts_records.append(gene_data)\n",
    "for p in phenotype_data:\n",
    "    all_genepanel_phenotypes_records.append(p)"
   ]
  },
  {
   "cell_type": "markdown",
   "metadata": {},
   "source": [
    "## Get the SNP data for RET c.1832G>A\t p.Cys611Tyr\n",
    "\n",
    "RET\tNM_020975.6\tc.1832G>A\t p.Cys611Tyr\n",
    "\n",
    "Ensembl gene ID\n",
    "ENSG00000165731.13\n",
    "\n",
    "Ensembl canonical transcript More information\n",
    "ENST00000355710.3\n",
    "\n",
    "\n",
    "### GnomAD -  p.Cys618Arg\n",
    "\n",
    "I can't find the requested phenotype in GnomAD\n",
    "\n",
    "So I'm using this phenotype instead - p.Cys618Arg\n",
    "\n",
    "https://gnomad.broadinstitute.org/variant/10-43609096-T-C?dataset=gnomad_r2_1\n",
    "\n",
    "https://www.ncbi.nlm.nih.gov/snp/rs76262710\n",
    "\n",
    "GRCh37.p13 chr 10\tNC_000010.10:g.43609096T>A\n",
    "\n",
    "GRCh37.p13 chr 10\tNC_000010.10:g.43609096T>C\n",
    "\n",
    "GRCh37.p13 chr 10\tNC_000010.10:g.43609096T>G\n",
    "\n",
    "###  Clinvar - p.Cys611Tyr\n",
    "\n",
    "NM_020975.6(RET):c.1832G>A (p.Cys611Tyr)\n",
    "\n",
    "https://www.ncbi.nlm.nih.gov/clinvar/RCV000412987/\n",
    "\n",
    "Chr10: 43609076 (on Assembly GRCh37)"
   ]
  },
  {
   "cell_type": "code",
   "execution_count": null,
   "metadata": {},
   "outputs": [],
   "source": [
    "geneSymbol=\"RET\"\n",
    "eGeneID=\"ENSG00000165731\"\n",
    "eTranscriptID=\"ENST00000355710\"\n",
    "refseq=\"NM_020975.6\"\n",
    "gene_data = get_gene_data_mygene(eGeneID)\n",
    "gene_data['refseq'] = refseq\n",
    "gene_data['geneSymbol'] = geneSymbol\n",
    "gene_data['eGeneID'] = eGeneID\n",
    "gene_data['eTranscriptID'] = eTranscriptID\n",
    "\n",
    "pd.DataFrame.from_records([gene_data])"
   ]
  },
  {
   "cell_type": "code",
   "execution_count": null,
   "metadata": {},
   "outputs": [],
   "source": [
    "html_string = \"\"\"<table class=\"table table-bordered table-condensed table-hover mim-table-padding small\"> <thead> <tr class=\"active\"> <th> Location </th> <th> Phenotype </th> <th> Phenotype <br>MIM number </th> <th> Inheritance </th> <th> Phenotype <br>mapping key </th> </tr></thead> <tbody> <tr> <td rowspan=\"7\"> <span class=\"mim-font\"> <a href=\"/geneMap/10/147?start=-3&amp;limit=10&amp;highlight=147\"> 10q11.21 </a> </span> </td><td> <span class=\"mim-font\">{Hirschsprung disease, protection against}</span> </td><td> <span class=\"mim-font\"> <a href=\"/entry/142623\"> 142623 </a> </span> </td><td> <span class=\"mim-font\"> <abbr class=\"mim-hint\" data-hasqtip=\"49\" oldtitle=\"Autosomal dominant\" title=\"\">AD</abbr> </span> </td><td> <span class=\"mim-font\"> <abbr class=\"mim-hint\" data-hasqtip=\"50\" oldtitle=\"3 - The molecular basis of the disorder is known\" title=\"\">3</abbr> </span> </td></tr><tr> <td> <span class=\"mim-font\">{Hirschsprung disease, susceptibility to, 1}</span> </td><td> <span class=\"mim-font\"> <a href=\"/entry/142623\"> 142623 </a> </span> </td><td> <span class=\"mim-font\"> <abbr class=\"mim-hint\" data-hasqtip=\"51\" oldtitle=\"Autosomal dominant\" title=\"\">AD</abbr> </span> </td><td> <span class=\"mim-font\"> <abbr class=\"mim-hint\" data-hasqtip=\"52\" oldtitle=\"3 - The molecular basis of the disorder is known\" title=\"\">3</abbr> </span> </td></tr><tr> <td> <span class=\"mim-font\"> Central hypoventilation syndrome, congenital </span> </td><td> <span class=\"mim-font\"> <a href=\"/entry/209880\"> 209880 </a> </span> </td><td> <span class=\"mim-font\"> <abbr class=\"mim-hint\" data-hasqtip=\"53\" oldtitle=\"Autosomal dominant\" title=\"\">AD</abbr> </span> </td><td> <span class=\"mim-font\"> <abbr class=\"mim-hint\" data-hasqtip=\"54\" oldtitle=\"3 - The molecular basis of the disorder is known\" title=\"\">3</abbr> </span> </td></tr><tr> <td> <span class=\"mim-font\"> Medullary thyroid carcinoma </span> </td><td> <span class=\"mim-font\"> <a href=\"/entry/155240\"> 155240 </a> </span> </td><td> <span class=\"mim-font\"> <abbr class=\"mim-hint\" data-hasqtip=\"55\" oldtitle=\"Autosomal dominant\" title=\"\">AD</abbr> </span> </td><td> <span class=\"mim-font\"> <abbr class=\"mim-hint\" data-hasqtip=\"56\" oldtitle=\"3 - The molecular basis of the disorder is known\" title=\"\">3</abbr> </span> </td></tr><tr> <td> <span class=\"mim-font\"> Multiple endocrine neoplasia IIA </span> </td><td> <span class=\"mim-font\"> <a href=\"/entry/171400\"> 171400 </a> </span> </td><td> <span class=\"mim-font\"> <abbr class=\"mim-hint\" data-hasqtip=\"57\" oldtitle=\"Autosomal dominant\" title=\"\">AD</abbr> </span> </td><td> <span class=\"mim-font\"> <abbr class=\"mim-hint\" data-hasqtip=\"58\" oldtitle=\"3 - The molecular basis of the disorder is known\" title=\"\">3</abbr> </span> </td></tr><tr> <td> <span class=\"mim-font\"> Multiple endocrine neoplasia IIB </span> </td><td> <span class=\"mim-font\"> <a href=\"/entry/162300\"> 162300 </a> </span> </td><td> <span class=\"mim-font\"> <abbr class=\"mim-hint\" data-hasqtip=\"59\" oldtitle=\"Autosomal dominant\" title=\"\">AD</abbr> </span> </td><td> <span class=\"mim-font\"> <abbr class=\"mim-hint\" data-hasqtip=\"60\" oldtitle=\"3 - The molecular basis of the disorder is known\" title=\"\">3</abbr> </span> </td></tr><tr> <td> <span class=\"mim-font\"> Pheochromocytoma </span> </td><td> <span class=\"mim-font\"> <a href=\"/entry/171300\"> 171300 </a> </span> </td><td> <span class=\"mim-font\"> <abbr class=\"mim-hint\" data-hasqtip=\"61\" oldtitle=\"Autosomal dominant\" title=\"\">AD</abbr> </span> </td><td> <span class=\"mim-font\"> <abbr class=\"mim-hint\" data-hasqtip=\"62\" oldtitle=\"3 - The molecular basis of the disorder is known\" title=\"\">3</abbr> </span> </td></tr></tbody> </table>\"\"\"\n",
    "dfs = pd.read_html(html_string)\n",
    "dfs[0]"
   ]
  },
  {
   "cell_type": "code",
   "execution_count": null,
   "metadata": {},
   "outputs": [],
   "source": [
    "phenotype_data = []\n",
    "for index, row in dfs[0].iterrows():\n",
    "    phenotype_data.append({\n",
    "    \"#gene symbol\": geneSymbol,\n",
    "    \"HGNC\": int(gene_data[\"HGNC\"]),\n",
    "    \"phenotype\": row[\"Phenotype\"],\n",
    "    \"inheritance\": row[\"Inheritance\"],\n",
    "    \"omim_number\": row[\"Phenotype MIM number\"],\n",
    "    \"pmid\": \"\",\n",
    "    \"inheritance info\": \"\",\n",
    "    \"comment\": \"\",\n",
    "    \"remove (add x)\": \"\",\n",
    "    })"
   ]
  },
  {
   "cell_type": "code",
   "execution_count": null,
   "metadata": {},
   "outputs": [],
   "source": [
    "all_genepanel_transcripts_records.append(gene_data)\n",
    "\n",
    "for p in phenotype_data:\n",
    "    all_genepanel_phenotypes_records.append(p)"
   ]
  },
  {
   "cell_type": "code",
   "execution_count": null,
   "metadata": {},
   "outputs": [],
   "source": [
    "df = print_genepanel_transcripts_file(all_genepanel_transcripts_records, 'test-ALL', 'v01')\n",
    "df"
   ]
  },
  {
   "cell_type": "code",
   "execution_count": null,
   "metadata": {},
   "outputs": [],
   "source": [
    "df = print_genepanel_phenotypes_file(all_genepanel_phenotypes_records, 'test-ALL', 'v01')\n",
    "df"
   ]
  },
  {
   "cell_type": "markdown",
   "metadata": {},
   "source": [
    "# Copy over the Gene Panels"
   ]
  },
  {
   "cell_type": "code",
   "execution_count": null,
   "metadata": {},
   "outputs": [],
   "source": [
    "SAMPLE_NAME=\"test_sample_1\"\n",
    "ANALYSIS_NAME=\"test_all\"\n",
    "GENE_PANEL_NAME=\"test_all\"\n",
    "GENE_PANEL_VERSION=\"v01\""
   ]
  },
  {
   "cell_type": "code",
   "execution_count": null,
   "metadata": {},
   "outputs": [],
   "source": [
    "#! mkdir -p /home/jovyan/project/dev/dev-data/gene_panels/NRL-test-ALL_v01/\n",
    "# make an analysis directory for the output VCF\n",
    "#! mkdir -p /home/jovyan/project/dev/dev-data/analysis/complete/nrl_test_all-NRL-test-ALL_v01/\n",
    "#! cp -rf NRL-test-ALL*csv /home/jovyan/project/dev/dev-data/gene_panels/NRL-test-ALL_v01/"
   ]
  }
 ],
 "metadata": {
  "kernelspec": {
   "display_name": "Python 3",
   "language": "python",
   "name": "python3"
  },
  "language_info": {
   "codemirror_mode": {
    "name": "ipython",
    "version": 3
   },
   "file_extension": ".py",
   "mimetype": "text/x-python",
   "name": "python",
   "nbconvert_exporter": "python",
   "pygments_lexer": "ipython3",
   "version": "3.8.6"
  }
 },
 "nbformat": 4,
 "nbformat_minor": 4
}
