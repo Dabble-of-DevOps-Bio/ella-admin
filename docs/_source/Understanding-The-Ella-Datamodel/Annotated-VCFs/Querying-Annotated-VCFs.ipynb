{
 "cells": [
  {
   "cell_type": "markdown",
   "metadata": {},
   "source": [
    "# Querying VCFs Annotated by Ella-Anno\n",
    "\n",
    "This is a **WIP** of trying to understand what happens with the Ella-Anno annotation service and the VCF that comes out.\n",
    "\n",
    "This is just an exploratory notebook to understand VCF considerations."
   ]
  },
  {
   "cell_type": "code",
   "execution_count": 1,
   "metadata": {},
   "outputs": [
    {
     "name": "stdout",
     "output_type": "stream",
     "text": [
      "Collecting pyvcf\n",
      "  Downloading https://files.pythonhosted.org/packages/20/b6/36bfb1760f6983788d916096193fc14c83cce512c7787c93380e09458c09/PyVCF-0.6.8.tar.gz\n",
      "Requirement already satisfied: setuptools in /dist/ella-python/lib/python3.7/site-packages (from pyvcf)\n",
      "Building wheels for collected packages: pyvcf\n",
      "  Running setup.py bdist_wheel for pyvcf ... \u001b[?25lerror\n",
      "  Complete output from command /dist/ella-python/bin/python3.7 -u -c \"import setuptools, tokenize;__file__='/tmp/pip-build-uekvqrc1/pyvcf/setup.py';f=getattr(tokenize, 'open', open)(__file__);code=f.read().replace('\\r\\n', '\\n');f.close();exec(compile(code, __file__, 'exec'))\" bdist_wheel -d /tmp/tmpc8kdbhdxpip-wheel- --python-tag cp37:\n",
      "  usage: -c [global_opts] cmd1 [cmd1_opts] [cmd2 [cmd2_opts] ...]\n",
      "     or: -c --help [cmd1 cmd2 ...]\n",
      "     or: -c --help-commands\n",
      "     or: -c cmd --help\n",
      "  \n",
      "  error: invalid command 'bdist_wheel'\n",
      "  \n",
      "  ----------------------------------------\n",
      "\u001b[31m  Failed building wheel for pyvcf\u001b[0m\n",
      "\u001b[?25h  Running setup.py clean for pyvcf\n",
      "Failed to build pyvcf\n",
      "Installing collected packages: pyvcf\n",
      "  Running setup.py install for pyvcf ... \u001b[?25ldone\n",
      "\u001b[?25hSuccessfully installed pyvcf-0.6.8\n"
     ]
    }
   ],
   "source": [
    "! pip install pyvcf"
   ]
  },
  {
   "cell_type": "code",
   "execution_count": 19,
   "metadata": {},
   "outputs": [],
   "source": [
    "import vcf\n",
    "from vardb.util import vcfiterator, annotationconverters"
   ]
  },
  {
   "cell_type": "code",
   "execution_count": 33,
   "metadata": {},
   "outputs": [],
   "source": [
    "vcf_reader = vcf.Reader(open('/data/brca_sample_2.HBOC_v01.vcf', 'r'))\n",
    "records = []\n",
    "for record in vcf_reader:\n",
    "    records.append(record)"
   ]
  },
  {
   "cell_type": "code",
   "execution_count": 34,
   "metadata": {},
   "outputs": [
    {
     "data": {
      "text/plain": [
       "<vcf.model._Record at 0x7f98d92d0250>"
      ]
     },
     "execution_count": 34,
     "metadata": {},
     "output_type": "execute_result"
    }
   ],
   "source": [
    "records[0]"
   ]
  },
  {
   "cell_type": "code",
   "execution_count": 35,
   "metadata": {},
   "outputs": [
    {
     "data": {
      "text/plain": [
       "{'CSQ': ['-|frameshift_variant|HIGH|BRCA2|ENSG00000139618|Transcript|ENST00000544455|protein_coding|3/28||ENST00000544455.1:c.151delG|ENSP00000439902.1:p.Glu51AsnfsTer29|378|151|51|E/X|Gaa/aa|rs80359287&CD076760|1||1|HGNC|1101|YES|CCDS9344.1|ENSP00000439902||||hmmpanther:PTHR11289:SF0&hmmpanther:PTHR11289&PIRSF_domain:PIRSF002397||||||||||not_provided&pathogenic||||||',\n",
       "  '-|frameshift_variant|HIGH|BRCA2|ENSG00000139618|Transcript|ENST00000380152|protein_coding|3/27||ENST00000380152.3:c.151delG|ENSP00000369497.3:p.Glu51AsnfsTer29|384|151|51|E/X|Gaa/aa|rs80359287&CD076760|1||1|HGNC|1101||CCDS9344.1|ENSP00000369497||||hmmpanther:PTHR11289&hmmpanther:PTHR11289:SF0&PIRSF_domain:PIRSF002397||||||||||not_provided&pathogenic||||||',\n",
       "  '-|upstream_gene_variant|MODIFIER|ZAR1L|ENSG00000189167|Transcript|ENST00000533490|protein_coding||||||||||rs80359287&CD076760|1|3816|-1|HGNC|37116|YES|CCDS45023.1|ENSP00000437289||||||||||||||not_provided&pathogenic||||||',\n",
       "  '-|frameshift_variant|HIGH|BRCA2|675|Transcript|NM_000059.3|protein_coding|3/27||NM_000059.3:c.151delG|NP_000050.2:p.Glu51AsnfsTer29|378|151|51|E/X|Gaa/aa|rs80359287&CD076760|1||1|||YES||NP_000050.2|rseq_mrna_nonmatch&rseq_cds_mismatch&rseq_ens_match_cds|||||||||||||not_provided&pathogenic||||||',\n",
       "  '-|5_prime_UTR_variant|MODIFIER|BRCA2|ENSG00000139618|Transcript|ENST00000530893|protein_coding|3/10||ENST00000530893.2:c.-219delG||349|||||rs80359287&CD076760|1||1|HGNC|1101|||ENSP00000435699||||||||||||||not_provided&pathogenic||||||'],\n",
       " 'BIC__BRCA2__Accession_Number': ['6788'],\n",
       " 'BIC__BRCA2__Exon': ['3'],\n",
       " 'BIC__BRCA2__NT': ['379'],\n",
       " 'BIC__BRCA2__Codon': ['51'],\n",
       " 'BIC__BRCA2__Base_Change': ['del@#SPG'],\n",
       " 'BIC__BRCA2__AA_Change': ['Stop@#SP79'],\n",
       " 'BIC__BRCA2__Designation': ['379delG'],\n",
       " 'BIC__BRCA2__HGVS_cDNA': ['c.151_151delG'],\n",
       " 'BIC__BRCA2__HGVS_Protein': ['p.Glu51Asnfs'],\n",
       " 'BIC__BRCA2__Genotype': ['-'],\n",
       " 'BIC__BRCA2__dbSNP': ['rs80359287'],\n",
       " 'BIC__BRCA2__Mutation_Type': ['F'],\n",
       " 'BIC__BRCA2__Mutation_Effect': ['*'],\n",
       " 'BIC__BRCA2__Clinically_Important': ['yes'],\n",
       " 'BIC__BRCA2__Depositor': ['K.@#SPNathanson'],\n",
       " 'BIC__BRCA2__Patient_Sample_Source': ['-'],\n",
       " 'BIC__BRCA2__ID_Number': ['729'],\n",
       " 'BIC__BRCA2__Number_Reported': ['-'],\n",
       " 'BIC__BRCA2__G_or_S': ['G'],\n",
       " 'BIC__BRCA2__Detection_Method': ['CSGE'],\n",
       " 'BIC__BRCA2__Proband_Tumor_Type': ['-'],\n",
       " 'BIC__BRCA2__nChr': ['-'],\n",
       " 'BIC__BRCA2__A': ['-'],\n",
       " 'BIC__BRCA2__C': ['-'],\n",
       " 'BIC__BRCA2__G': ['-'],\n",
       " 'BIC__BRCA2__T': ['-'],\n",
       " 'BIC__BRCA2__Reference': ['-'],\n",
       " 'BIC__BRCA2__Contact_Person': ['B.@#SP@#SPWeber@#SP(weberb@mail.med.upenn.edu)'],\n",
       " 'BIC__BRCA2__Notes': ['-'],\n",
       " 'BIC__BRCA2__Creation_Date': ['19-NOV-03'],\n",
       " 'BIC__BRCA2__Ethnicity': ['Irish/Native@#SPAmerican/English'],\n",
       " 'BIC__BRCA2__Nationality': ['-'],\n",
       " 'BIC__BRCA2__Addition_Information': ['no'],\n",
       " 'CLINVARJSON': '7B226F7665726C617073223A5B5D2C227075626D656473223A5B5D2C2276617269616E745F6964223A35313133382C2272637673223A7B22524356303030313133313933223A7B22636C696E6963616C5F7369676E69666963616E63655F737461747573223A5B227265766965776564206279206578706572742070616E656C225D2C224847565370223A5B22702E476C75353141736E6673225D2C2274726169746E616D6573223A5B224272656173742D6F76617269616E2063616E6365722C2066616D696C69616C2032225D2C227472616974735F6D656467656E5F6964223A5B224332363735353230225D2C2264627661724944223A5B5D2C2276617269616E745F6964223A5B223531313338225D2C22636C696E6963616C5F7369676E69666963616E63655F6465736372223A5B22506174686F67656E6963225D2C226C6173745F6576616C7561746564223A5B2230382F30392F32303136225D2C2272734944223A5B223830333539323837225D2C227472616974735F6F727068616E65745F6964223A5B22313435225D2C227375626D6974746572223A5B5D2C227472616974735F6F6D696D5F6964223A5B22363132353535225D7D2C22534356303030333030333031223A7B22636C696E6963616C5F7369676E69666963616E63655F737461747573223A5B227265766965776564206279206578706572742070616E656C225D2C224847565370223A5B5D2C2274726169746E616D6573223A5B5D2C227472616974735F6D656467656E5F6964223A5B5D2C2264627661724944223A5B5D2C2276617269616E745F6964223A5B5D2C22636C696E6963616C5F7369676E69666963616E63655F6465736372223A5B22506174686F67656E6963225D2C226C6173745F6576616C7561746564223A5B2230382F30392F32303136225D2C2272734944223A5B5D2C227472616974735F6F727068616E65745F6964223A5B5D2C227375626D6974746572223A5B22454E49474D41225D2C227472616974735F6F6D696D5F6964223A5B22363132353535225D7D2C22534356303030313436323630223A7B22636C696E6963616C5F7369676E69666963616E63655F737461747573223A5B226E6F20617373657274696F6E2063726974657269612070726F7669646564225D2C224847565370223A5B5D2C2274726169746E616D6573223A5B224272656173742D6F76617269616E2063616E6365722C2066616D696C69616C2032225D2C227472616974735F6D656467656E5F6964223A5B224332363735353230225D2C2264627661724944223A5B5D2C2276617269616E745F6964223A5B5D2C22636C696E6963616C5F7369676E69666963616E63655F6465736372223A5B22506174686F67656E6963225D2C226C6173745F6576616C7561746564223A5B2232302F30322F32303034225D2C2272734944223A5B5D2C227472616974735F6F727068616E65745F6964223A5B5D2C227375626D6974746572223A5B224249432028425243413229225D2C227472616974735F6F6D696D5F6964223A5B5D7D7D2C2276617269616E745F6465736372697074696F6E223A227265766965776564206279206578706572742070616E656C227D',\n",
       " 'HGMD__HGMD_type': ['deletion'],\n",
       " 'HGMD__acc_num': ['CD076760'],\n",
       " 'HGMD__author': ['Tai'],\n",
       " 'HGMD__chromosome': ['13'],\n",
       " 'HGMD__codon': [50],\n",
       " 'HGMD__comments': ['None'],\n",
       " 'HGMD__coordEND': [32893297],\n",
       " 'HGMD__coordSTART': [32893297],\n",
       " 'HGMD__deletion': ['AGAAGAA^TCTgAACATAAAAA'],\n",
       " 'HGMD__disease': ['Breast@#SPcancer@#CM@#SPmale'],\n",
       " 'HGMD__entrezID': [675],\n",
       " 'HGMD__fullname': ['J@#SPNatl@#SPCancer@#SPInst'],\n",
       " 'HGMD__gene': ['BRCA2'],\n",
       " 'HGMD__hgvs': ['151delG'],\n",
       " 'HGMD__journal': ['JNCI'],\n",
       " 'HGMD__new_date': ['2008-03-10'],\n",
       " 'HGMD__omimid': ['600185'],\n",
       " 'HGMD__page': ['1811'],\n",
       " 'HGMD__pmid': ['18042939'],\n",
       " 'HGMD__refCORE': ['NM_000059'],\n",
       " 'HGMD__refVER': ['3'],\n",
       " 'HGMD__score': ['0'],\n",
       " 'HGMD__strand': ['+'],\n",
       " 'HGMD__tag': ['DM'],\n",
       " 'HGMD__vol': ['99'],\n",
       " 'HGMD__year': ['2007']}"
      ]
     },
     "execution_count": 35,
     "metadata": {},
     "output_type": "execute_result"
    }
   ],
   "source": [
    "records[0].INFO"
   ]
  },
  {
   "cell_type": "code",
   "execution_count": 36,
   "metadata": {},
   "outputs": [
    {
     "data": {
      "text/plain": [
       "{'CLINVAR': {'items': [{'traitnames': 'Breast-ovarian cancer, familial 2',\n",
       "    'clinical_significance_descr': 'Pathogenic',\n",
       "    'variant_id': '51138',\n",
       "    'submitter': '',\n",
       "    'last_evaluated': '08/09/2016',\n",
       "    'rcv': 'RCV000113193'},\n",
       "   {'traitnames': '',\n",
       "    'clinical_significance_descr': 'Pathogenic',\n",
       "    'variant_id': '',\n",
       "    'submitter': 'ENIGMA',\n",
       "    'last_evaluated': '08/09/2016',\n",
       "    'rcv': 'SCV000300301'},\n",
       "   {'traitnames': 'Breast-ovarian cancer, familial 2',\n",
       "    'clinical_significance_descr': 'Pathogenic',\n",
       "    'variant_id': '',\n",
       "    'submitter': 'BIC (BRCA2)',\n",
       "    'last_evaluated': '20/02/2004',\n",
       "    'rcv': 'SCV000146260'}],\n",
       "  'variant_description': 'reviewed by expert panel',\n",
       "  'variant_id': 51138}}"
      ]
     },
     "execution_count": 36,
     "metadata": {},
     "output_type": "execute_result"
    }
   ],
   "source": [
    "annotationconverters.convert_clinvar(records[0].INFO)"
   ]
  },
  {
   "cell_type": "code",
   "execution_count": 37,
   "metadata": {},
   "outputs": [
    {
     "data": {
      "text/plain": [
       "'-|frameshift_variant|HIGH|BRCA2|ENSG00000139618|Transcript|ENST00000544455|protein_coding|3/28||ENST00000544455.1:c.151delG|ENSP00000439902.1:p.Glu51AsnfsTer29|378|151|51|E/X|Gaa/aa|rs80359287&CD076760|1||1|HGNC|1101|YES|CCDS9344.1|ENSP00000439902||||hmmpanther:PTHR11289:SF0&hmmpanther:PTHR11289&PIRSF_domain:PIRSF002397||||||||||not_provided&pathogenic||||||'"
      ]
     },
     "execution_count": 37,
     "metadata": {},
     "output_type": "execute_result"
    }
   ],
   "source": [
    "records[0].INFO['CSQ'][0]"
   ]
  },
  {
   "cell_type": "code",
   "execution_count": 38,
   "metadata": {},
   "outputs": [
    {
     "data": {
      "text/plain": [
       "{}"
      ]
     },
     "execution_count": 38,
     "metadata": {},
     "output_type": "execute_result"
    }
   ],
   "source": [
    "annotationconverters.csq_frequencies(records[1].INFO)"
   ]
  },
  {
   "cell_type": "code",
   "execution_count": 29,
   "metadata": {},
   "outputs": [
    {
     "name": "stdout",
     "output_type": "stream",
     "text": [
      "false\n"
     ]
    }
   ],
   "source": [
    "annotation = records[1].INFO\n"
   ]
  },
  {
   "cell_type": "code",
   "execution_count": 32,
   "metadata": {},
   "outputs": [
    {
     "data": {
      "text/plain": [
       "{}"
      ]
     },
     "execution_count": 32,
     "metadata": {},
     "output_type": "execute_result"
    }
   ],
   "source": [
    "annotationconverters.convert_hgmd(records[1].INFO)"
   ]
  },
  {
   "cell_type": "code",
   "execution_count": 39,
   "metadata": {},
   "outputs": [
    {
     "data": {
      "text/plain": [
       "{'CSQ': ['T|stop_gained|HIGH|BRCA2|ENSG00000139618|Transcript|ENST00000544455|protein_coding|3/28||ENST00000544455.1:c.172G>T|ENSP00000439902.1:p.Glu58Ter|399|172|58|E/*|Gaa/Taa|rs397507603|1||1|HGNC|1101|YES|CCDS9344.1|ENSP00000439902||||hmmpanther:PTHR11289:SF0&hmmpanther:PTHR11289&PIRSF_domain:PIRSF002397||||||||||uncertain_significance&not_provided||||||',\n",
       "  'T|stop_gained|HIGH|BRCA2|ENSG00000139618|Transcript|ENST00000380152|protein_coding|3/27||ENST00000380152.3:c.172G>T|ENSP00000369497.3:p.Glu58Ter|405|172|58|E/*|Gaa/Taa|rs397507603|1||1|HGNC|1101||CCDS9344.1|ENSP00000369497||||hmmpanther:PTHR11289&hmmpanther:PTHR11289:SF0&PIRSF_domain:PIRSF002397||||||||||uncertain_significance&not_provided||||||',\n",
       "  'T|upstream_gene_variant|MODIFIER|ZAR1L|ENSG00000189167|Transcript|ENST00000533490|protein_coding||||||||||rs397507603|1|3837|-1|HGNC|37116|YES|CCDS45023.1|ENSP00000437289||||||||||||||uncertain_significance&not_provided||||||',\n",
       "  'T|stop_gained|HIGH|BRCA2|675|Transcript|NM_000059.3|protein_coding|3/27||NM_000059.3:c.172G>T|NP_000050.2:p.Glu58Ter|399|172|58|E/*|Gaa/Taa|rs397507603|1||1|||YES||NP_000050.2|rseq_mrna_nonmatch&rseq_cds_mismatch&rseq_ens_match_cds|||||||||||||uncertain_significance&not_provided||||||',\n",
       "  'T|5_prime_UTR_variant|MODIFIER|BRCA2|ENSG00000139618|Transcript|ENST00000530893|protein_coding|3/10||ENST00000530893.2:c.-198G>T||370|||||rs397507603|1||1|HGNC|1101|||ENSP00000435699||||||||||||||uncertain_significance&not_provided||||||'],\n",
       " 'CLINVARJSON': '7B226F7665726C617073223A5B5B223133222C223332383933333138222C2247222C2241225D5D2C227075626D656473223A5B223231393339353436225D2C2276617269616E745F6964223A35313138302C2272637673223A7B22524356303030353737303833223A7B22636C696E6963616C5F7369676E69666963616E63655F737461747573223A5B226E6F20617373657274696F6E2070726F7669646564225D2C224847565370223A5B22702E476C753538546572225D2C2274726169746E616D6573223A5B2246616D696C69616C2063616E636572206F6620627265617374225D2C227472616974735F6D656467656E5F6964223A5B224330333436313533225D2C2264627661724944223A5B5D2C2276617269616E745F6964223A5B223531313830225D2C22636C696E6963616C5F7369676E69666963616E63655F6465736372223A5B226E6F742070726F7669646564225D2C226C6173745F6576616C7561746564223A5B5D2C2272734944223A5B22333937353037363033225D2C227472616974735F6F727068616E65745F6964223A5B5D2C227375626D6974746572223A5B5D2C227472616974735F6F6D696D5F6964223A5B22313134343830225D7D2C22534356303030363738373831223A7B22636C696E6963616C5F7369676E69666963616E63655F737461747573223A5B226E6F20617373657274696F6E2070726F7669646564225D2C224847565370223A5B5D2C2274726169746E616D6573223A5B2246616D696C69616C2063616E636572206F6620627265617374225D2C227472616974735F6D656467656E5F6964223A5B224330333436313533225D2C2264627661724944223A5B5D2C2276617269616E745F6964223A5B5D2C22636C696E6963616C5F7369676E69666963616E63655F6465736372223A5B226E6F742070726F7669646564225D2C226C6173745F6576616C7561746564223A5B5D2C2272734944223A5B5D2C227472616974735F6F727068616E65745F6964223A5B5D2C227375626D6974746572223A5B22436C696E5661722053746166662C204E6174696F6E616C2043656E74657220666F722042696F746563686E6F6C6F677920496E666F726D6174696F6E20284E43424929225D2C227472616974735F6F6D696D5F6964223A5B5D7D7D2C2276617269616E745F6465736372697074696F6E223A226E6F20617373657274696F6E2063726974657269612070726F7669646564227D',\n",
       " 'HGMD__HGMD_type': ['mutation'],\n",
       " 'HGMD__acc_num': ['CM117859'],\n",
       " 'HGMD__amino': ['Glu-Term'],\n",
       " 'HGMD__author': ['Muller'],\n",
       " 'HGMD__base': ['GAA-TAA'],\n",
       " 'HGMD__chromosome': ['13'],\n",
       " 'HGMD__codon': [58],\n",
       " 'HGMD__comments': ['None'],\n",
       " 'HGMD__coordEND': [32893318],\n",
       " 'HGMD__coordSTART': [32893318],\n",
       " 'HGMD__disease': ['Breast@#SPcancer'],\n",
       " 'HGMD__entrezID': [675],\n",
       " 'HGMD__fullname': ['BMC@#SPMed@#SPGenet'],\n",
       " 'HGMD__gene': ['BRCA2'],\n",
       " 'HGMD__hgvs': ['172G>T'],\n",
       " 'HGMD__journal': ['BMC@#SPMG'],\n",
       " 'HGMD__new_date': ['2011-09-29'],\n",
       " 'HGMD__omimid': ['600185'],\n",
       " 'HGMD__page': True,\n",
       " 'HGMD__pmid': ['21939546'],\n",
       " 'HGMD__refCORE': ['NM_000059'],\n",
       " 'HGMD__refVER': ['3'],\n",
       " 'HGMD__score': ['0'],\n",
       " 'HGMD__strand': ['+'],\n",
       " 'HGMD__tag': ['DM'],\n",
       " 'HGMD__vol': ['12'],\n",
       " 'HGMD__year': ['2011']}"
      ]
     },
     "execution_count": 39,
     "metadata": {},
     "output_type": "execute_result"
    }
   ],
   "source": [
    "records[1].INFO"
   ]
  },
  {
   "cell_type": "code",
   "execution_count": null,
   "metadata": {},
   "outputs": [],
   "source": []
  }
 ],
 "metadata": {
  "kernelspec": {
   "display_name": "Python 3",
   "language": "python",
   "name": "python3"
  },
  "language_info": {
   "codemirror_mode": {
    "name": "ipython",
    "version": 3
   },
   "file_extension": ".py",
   "mimetype": "text/x-python",
   "name": "python",
   "nbconvert_exporter": "python",
   "pygments_lexer": "ipython3",
   "version": "3.7.5"
  }
 },
 "nbformat": 4,
 "nbformat_minor": 4
}
