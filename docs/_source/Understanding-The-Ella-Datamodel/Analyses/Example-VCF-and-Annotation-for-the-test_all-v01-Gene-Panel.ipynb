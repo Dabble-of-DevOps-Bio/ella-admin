{
 "cells": [
  {
   "cell_type": "markdown",
   "metadata": {},
   "source": [
    "# Example VCF and Annotation for the test_all v01 Gene Panel\n",
    "\n",
    "This is just to demonstrate how you could hammer on public databases to demonstrate some dummy VCFs for one or more RS#s in order to test out Ella functionality.\n",
    "\n",
    "This assumes you created the gene panel from `Understanding-The-Ella-Datamodel/GenePanels/Create-Custom-GenePanels-From-Public-Databases.ipynb`."
   ]
  },
  {
   "cell_type": "code",
   "execution_count": 1,
   "metadata": {},
   "outputs": [],
   "source": [
    "import os\n",
    "import pandas as pd\n",
    "import requests\n",
    "from pprint import pprint\n",
    "import numpy as np\n",
    "from datetime import datetime\n",
    "import json"
   ]
  },
  {
   "cell_type": "markdown",
   "metadata": {},
   "source": [
    "Keep in mind that each analysis must be associated to a gene panel. An analysis name could be a sample name, a family name, population, etc.\n",
    "\n",
    "In this case we are saying we have a sample `test_sample_1`, that we are using as an analysis name, with a gene panel `test_genepanel` version `v01`."
   ]
  },
  {
   "cell_type": "code",
   "execution_count": 2,
   "metadata": {},
   "outputs": [],
   "source": [
    "SAMPLE_ID=\"test_sample_1\"\n",
    "GENEPANEL_NAME=\"test_genepanel\"\n",
    "GENEPANEL_VERSION=\"v01\"\n",
    "\n",
    "ANALYSIS_NAME=\"{SAMPLE_ID}.{GENEPANEL_NAME}_{GENEPANEL_VERSION}\".format(SAMPLE_ID=SAMPLE_ID, \n",
    "                                                                        GENEPANEL_NAME=GENEPANEL_NAME, \n",
    "                                                                        GENEPANEL_VERSION=GENEPANEL_VERSION,\n",
    "                                                                       )\n",
    "BASE_PATH=\"/data\"\n",
    "ANALYSIS_DIR=os.path.join(BASE_PATH,  \"analysis\", \"incoming\", ANALYSIS_NAME)\n",
    "GENEPANEL_DIR=os.path.join(BASE_PATH,  \"genepanels\")\n",
    "os.makedirs(ANALYSIS_DIR, exist_ok=True)\n",
    "os.makedirs(GENEPANEL_DIR, exist_ok=True)"
   ]
  },
  {
   "cell_type": "markdown",
   "metadata": {},
   "source": [
    "## Prepare the VCF\n",
    "\n",
    "VCFs have one or more Info lines, along with the standard VCF columns."
   ]
  },
  {
   "cell_type": "code",
   "execution_count": 3,
   "metadata": {},
   "outputs": [],
   "source": [
    "vcf_info_line = \"\"\"##fileformat=VCFv4.1\n",
    "##contig=<ID=13>\n",
    "##FILTER=<ID=PASS,Description=\"All filters passed\">\n",
    "\"\"\"\n",
    "\n",
    "vcf_columns = [\"#CHROM\", \"POS\", \"ID\", \"REF\", \"ALT\", \"QUAL\", \"FILTER\", \"INFO\", \"FORMAT\"]\n",
    "vcf_columns.append(SAMPLE_ID)\n",
    "\n",
    "def get_genepanel_info_line(genepanel_name, genepanel_version, date=None):\n",
    "    if date is None:\n",
    "        date = datetime.today().strftime('%Y-%m-%d')\n",
    "    return \"# Genepanel: {} Version: {} Date: {}\\n\".format(genepanel_name, genepanel_version, date)\n",
    "\n",
    "\n",
    "def write_pandas_csv_with_info_line(file_name, info_line, df):\n",
    "    with open(file_name, 'w') as fp:\n",
    "        fp.write(info_line)\n",
    "        df.to_csv(fp, index=False, sep=\"\\t\")"
   ]
  },
  {
   "cell_type": "markdown",
   "metadata": {},
   "source": [
    "## Get Variant Info Data from MyVariant\n",
    "\n",
    "Once we have the RS number we can get the rest of the information from MyVariant.info"
   ]
  },
  {
   "cell_type": "code",
   "execution_count": 4,
   "metadata": {},
   "outputs": [],
   "source": [
    "def get_variant_data_myvariant(query):\n",
    "    variant_data = requests.get(\"https://myvariant.info/v1/variant/{}\".format(query))\n",
    "    variant_data = variant_data.json()\n",
    "    #assert '_id' in variant_data\n",
    "    return {\n",
    "        #\"hgvs\": variant_data[\"_id\"],\n",
    "        \"chr\": variant_data[\"chrom\"],\n",
    "        \"rsid\": variant_data[\"dbsnp\"][\"rsid\"],\n",
    "        \"ref\": variant_data[\"dbsnp\"][\"ref\"],\n",
    "        \"alt\": variant_data[\"dbsnp\"][\"alt\"],\n",
    "        \"start\": variant_data[\"hg19\"][\"start\"],\n",
    "        \"end\": variant_data[\"hg19\"][\"end\"],\n",
    "    }\n"
   ]
  },
  {
   "cell_type": "markdown",
   "metadata": {},
   "source": [
    "## Build VCFs"
   ]
  },
  {
   "cell_type": "code",
   "execution_count": 5,
   "metadata": {},
   "outputs": [],
   "source": [
    "example_row = [13, 32972626, \"CM082515\",  \"A\", \"T\",  5000.0,  \"PASS\",    \".\",  \"GT:AD:DP:GQ:PL\",  \"0/1:107,80:187:99:2048,0,2917\"]\n",
    "# I'm not sure how the ids in the VCF file are generated so i'm just going to add one for each for\n",
    "first_id = 82515"
   ]
  },
  {
   "cell_type": "markdown",
   "metadata": {},
   "source": [
    "## BRCA VCF\n",
    "\n",
    "BRCA2 NM_000059.4 c.9976A>T p.Lys3326Ter\n",
    "\n",
    "[GnomAD p.Lys3326Ter](https://gnomad.broadinstitute.org/variant/13-32972626-A-T?dataset=gnomad_r2_1) \n",
    "\n",
    "[DBSnp rs11571833](https://www.ncbi.nlm.nih.gov/projects/SNP/snp_ref.cgi?rs=rs11571833)\n",
    "\n",
    "**Genome Coordinates:** GRCh37.p13 chr 13\tNC_000013.10:g.32972626A>T\n",
    "\n",
    "chr 13 32972626 A>T"
   ]
  },
  {
   "cell_type": "code",
   "execution_count": 6,
   "metadata": {},
   "outputs": [
    {
     "data": {
      "text/html": [
       "<div>\n",
       "<style scoped>\n",
       "    .dataframe tbody tr th:only-of-type {\n",
       "        vertical-align: middle;\n",
       "    }\n",
       "\n",
       "    .dataframe tbody tr th {\n",
       "        vertical-align: top;\n",
       "    }\n",
       "\n",
       "    .dataframe thead th {\n",
       "        text-align: right;\n",
       "    }\n",
       "</style>\n",
       "<table border=\"1\" class=\"dataframe\">\n",
       "  <thead>\n",
       "    <tr style=\"text-align: right;\">\n",
       "      <th></th>\n",
       "      <th>chr</th>\n",
       "      <th>rsid</th>\n",
       "      <th>ref</th>\n",
       "      <th>alt</th>\n",
       "      <th>start</th>\n",
       "      <th>end</th>\n",
       "    </tr>\n",
       "  </thead>\n",
       "  <tbody>\n",
       "    <tr>\n",
       "      <th>0</th>\n",
       "      <td>13</td>\n",
       "      <td>rs11571833</td>\n",
       "      <td>A</td>\n",
       "      <td>T</td>\n",
       "      <td>32972626</td>\n",
       "      <td>32972626</td>\n",
       "    </tr>\n",
       "  </tbody>\n",
       "</table>\n",
       "</div>"
      ],
      "text/plain": [
       "  chr        rsid ref alt     start       end\n",
       "0  13  rs11571833   A   T  32972626  32972626"
      ]
     },
     "execution_count": 6,
     "metadata": {},
     "output_type": "execute_result"
    }
   ],
   "source": [
    "snp_record = get_variant_data_myvariant(\"rs11571833\")\n",
    "pd.DataFrame.from_records([snp_record])"
   ]
  },
  {
   "cell_type": "code",
   "execution_count": 7,
   "metadata": {},
   "outputs": [],
   "source": [
    "brca2_vcf_record = {'#CHROM': snp_record['chr'],\n",
    " 'POS': snp_record['start'],\n",
    " 'ID': 'CM082515',\n",
    " 'REF': snp_record['ref'],\n",
    " 'ALT': snp_record['alt'],\n",
    " 'QUAL': 5000.0,\n",
    " 'FILTER': 'PASS',\n",
    " 'INFO': '.',\n",
    " 'FORMAT': 'GT:AD:DP:GQ:PL',\n",
    " 'test_sample_1': '0/1:107,80:187:99:2048,0,2917'}"
   ]
  },
  {
   "cell_type": "markdown",
   "metadata": {},
   "source": [
    "## HBB c.33C>A p.Ala11Ala\n",
    "\n",
    "HBB\tNM_000518.5\tc.33C>A\tp.Ala11Ala\n",
    "\n",
    "https://www.ncbi.nlm.nih.gov/gene/3043\n",
    "\n",
    "Ensembl:ENSG00000244734 MIM:141900\n",
    "\n",
    "SNP Info for p.Ala11Ala\n",
    "\n",
    "RS - https://www.ncbi.nlm.nih.gov/snp/rs35799536\n",
    "\n",
    "GRCh37.p13 chr 11\tNC_000011.9:g.5248219G>A\n",
    "\n",
    "GRCh37.p13 chr 11\tNC_000011.9:g.5248219G>T\n",
    "\n",
    "I can't find the exact phenotype the variant scientist is looking for in Gnomad.  I can find `p.Ala11Ala`, but not `c.33C>A`\n",
    "\n",
    "### Clinvar c.33C>A\tp.Ala11Ala\n",
    "\n",
    "[Clinvar](https://www.ncbi.nlm.nih.gov/clinvar/variation/439155/)\n",
    "\n",
    "11: 5248219 (GRCh37) C -> A"
   ]
  },
  {
   "cell_type": "code",
   "execution_count": 8,
   "metadata": {},
   "outputs": [],
   "source": [
    "# TODO This one comes up as not a unique record\n",
    "# So I am just manually adding in the record\n",
    "#snp_record = get_variant_data_myvariant(\"rs35799536\")\n",
    "#pd.DataFrame.from_records([snp_record])"
   ]
  },
  {
   "cell_type": "code",
   "execution_count": 9,
   "metadata": {},
   "outputs": [],
   "source": [
    "#variant_data = requests.get(\"https://myvariant.info/v1/variant/{}\".format(\"rs35799536\"))\n",
    "#variant_data = variant_data.json()\n",
    "#variant_data"
   ]
  },
  {
   "cell_type": "code",
   "execution_count": 10,
   "metadata": {},
   "outputs": [],
   "source": [
    "hbb_1_vcf_record = {'#CHROM': 11,\n",
    " 'POS': 5248219,\n",
    " 'ID': 'CM0{}'.format(str(first_id + 1)),\n",
    " 'REF': 'G',\n",
    " 'ALT': 'A',\n",
    " 'QUAL': 5000.0,\n",
    " 'FILTER': 'PASS',\n",
    " 'INFO': '.',\n",
    " 'FORMAT': 'GT:AD:DP:GQ:PL',\n",
    " 'test_sample_1': '0/1:107,80:187:99:2048,0,2917'}\n",
    "                      "
   ]
  },
  {
   "cell_type": "markdown",
   "metadata": {},
   "source": [
    "## HBB - c.316-197C>T NA\n",
    "\n",
    "[Clinvar](https://www.ncbi.nlm.nih.gov/clinvar/RCV000029984/)\n",
    "\n",
    "[OMIM](http://www.omim.org/entry/141900)\n",
    "\n",
    "[DBSNP](https://www.ncbi.nlm.nih.gov/snp/rs34451549)\n",
    "\n",
    "**Location:** Chr11: 5247153 (on Assembly GRCh37)\n",
    "\n",
    "**Prefered Name:** NM_000518.5(HBB):c.316-197C>T\n",
    "\n",
    "GRCh37.p13 chr 11\tNC_000011.9:g.5247153G>A"
   ]
  },
  {
   "cell_type": "code",
   "execution_count": 11,
   "metadata": {},
   "outputs": [],
   "source": [
    "hbb_2_vcf_record = {'#CHROM': 11,\n",
    " 'POS': 5247153,\n",
    " 'ID': 'CM0{}'.format(str(first_id + 2)),\n",
    " 'REF': 'G',\n",
    " 'ALT': 'A',\n",
    " 'QUAL': 5000.0,\n",
    " 'FILTER': 'PASS',\n",
    " 'INFO': '.',\n",
    " 'FORMAT': 'GT:AD:DP:GQ:PL',\n",
    " 'test_sample_1': '0/1:107,80:187:99:2048,0,2917'}"
   ]
  },
  {
   "cell_type": "markdown",
   "metadata": {},
   "source": [
    "## MSH6 - NM_000179.2 c.30C>A  p.Phe10Leu\n",
    "\n",
    "MSH6\tNM_000179.2\tc.30C>A \tp.Phe10Leu\n",
    "\n",
    "eGeneId ENSG00000116062.10\n",
    "\n",
    "Gnomad Variant ID for p.Phe10Leu - https://gnomad.broadinstitute.org/variant/2-48010400-T-C?dataset=gnomad_r2_1\n",
    "\n",
    "RS - https://www.ncbi.nlm.nih.gov/snp/rs773861137\n",
    "\n",
    "GRCh37.p13 chr 2\tNC_000002.11:g.48010400T>C"
   ]
  },
  {
   "cell_type": "code",
   "execution_count": 12,
   "metadata": {},
   "outputs": [],
   "source": [
    "msh6_vcf_record = {'#CHROM': 2,\n",
    " 'POS': 480104003,\n",
    " 'ID': 'CM0{}'.format(str(first_id + 3)),\n",
    "# the vcf annotator is telling me that their shouldn't be a reference allele here\n",
    " 'REF': '',\n",
    " 'ALT': 'C',\n",
    " 'QUAL': 5000.0,\n",
    " 'FILTER': 'PASS',\n",
    " 'INFO': '.',\n",
    " 'FORMAT': 'GT:AD:DP:GQ:PL',\n",
    " 'test_sample_1': '0/1:107,80:187:99:2048,0,2917'}"
   ]
  },
  {
   "cell_type": "markdown",
   "metadata": {},
   "source": [
    "## RET\tNM_020975.6\tc.1832G>A\t p.Cys611Tyr\n",
    "\n",
    "Clinvar - p.Cys611Tyr\n",
    "NM_020975.6(RET):c.1832G>A (p.Cys611Tyr)\n",
    "\n",
    "[Clinvar](https://www.ncbi.nlm.nih.gov/clinvar/RCV000412987/)\n",
    "\n",
    "Chr10: 43609076 (on Assembly GRCh37)"
   ]
  },
  {
   "cell_type": "code",
   "execution_count": 13,
   "metadata": {},
   "outputs": [],
   "source": [
    "ret_vcf_record = {'#CHROM': 10,\n",
    " 'POS': 43609076,\n",
    " 'ID': 'CM0{}'.format(str(first_id + 4)),\n",
    " 'REF': 'G',\n",
    " 'ALT': 'A',\n",
    " 'QUAL': 5000.0,\n",
    " 'FILTER': 'PASS',\n",
    " 'INFO': '.',\n",
    " 'FORMAT': 'GT:AD:DP:GQ:PL',\n",
    " 'test_sample_1': '0/1:107,80:187:99:2048,0,2917'}"
   ]
  },
  {
   "cell_type": "code",
   "execution_count": 14,
   "metadata": {},
   "outputs": [
    {
     "data": {
      "text/html": [
       "<div>\n",
       "<style scoped>\n",
       "    .dataframe tbody tr th:only-of-type {\n",
       "        vertical-align: middle;\n",
       "    }\n",
       "\n",
       "    .dataframe tbody tr th {\n",
       "        vertical-align: top;\n",
       "    }\n",
       "\n",
       "    .dataframe thead th {\n",
       "        text-align: right;\n",
       "    }\n",
       "</style>\n",
       "<table border=\"1\" class=\"dataframe\">\n",
       "  <thead>\n",
       "    <tr style=\"text-align: right;\">\n",
       "      <th></th>\n",
       "      <th>#CHROM</th>\n",
       "      <th>POS</th>\n",
       "      <th>ID</th>\n",
       "      <th>REF</th>\n",
       "      <th>ALT</th>\n",
       "      <th>QUAL</th>\n",
       "      <th>FILTER</th>\n",
       "      <th>INFO</th>\n",
       "      <th>FORMAT</th>\n",
       "      <th>test_sample_1</th>\n",
       "    </tr>\n",
       "  </thead>\n",
       "  <tbody>\n",
       "    <tr>\n",
       "      <th>0</th>\n",
       "      <td>13</td>\n",
       "      <td>32972626</td>\n",
       "      <td>CM082515</td>\n",
       "      <td>A</td>\n",
       "      <td>T</td>\n",
       "      <td>5000.0</td>\n",
       "      <td>PASS</td>\n",
       "      <td>.</td>\n",
       "      <td>GT:AD:DP:GQ:PL</td>\n",
       "      <td>0/1:107,80:187:99:2048,0,2917</td>\n",
       "    </tr>\n",
       "    <tr>\n",
       "      <th>1</th>\n",
       "      <td>11</td>\n",
       "      <td>5247153</td>\n",
       "      <td>CM082517</td>\n",
       "      <td>G</td>\n",
       "      <td>A</td>\n",
       "      <td>5000.0</td>\n",
       "      <td>PASS</td>\n",
       "      <td>.</td>\n",
       "      <td>GT:AD:DP:GQ:PL</td>\n",
       "      <td>0/1:107,80:187:99:2048,0,2917</td>\n",
       "    </tr>\n",
       "    <tr>\n",
       "      <th>2</th>\n",
       "      <td>11</td>\n",
       "      <td>5248219</td>\n",
       "      <td>CM082516</td>\n",
       "      <td>G</td>\n",
       "      <td>A</td>\n",
       "      <td>5000.0</td>\n",
       "      <td>PASS</td>\n",
       "      <td>.</td>\n",
       "      <td>GT:AD:DP:GQ:PL</td>\n",
       "      <td>0/1:107,80:187:99:2048,0,2917</td>\n",
       "    </tr>\n",
       "    <tr>\n",
       "      <th>3</th>\n",
       "      <td>2</td>\n",
       "      <td>480104003</td>\n",
       "      <td>CM082518</td>\n",
       "      <td></td>\n",
       "      <td>C</td>\n",
       "      <td>5000.0</td>\n",
       "      <td>PASS</td>\n",
       "      <td>.</td>\n",
       "      <td>GT:AD:DP:GQ:PL</td>\n",
       "      <td>0/1:107,80:187:99:2048,0,2917</td>\n",
       "    </tr>\n",
       "    <tr>\n",
       "      <th>4</th>\n",
       "      <td>10</td>\n",
       "      <td>43609076</td>\n",
       "      <td>CM082519</td>\n",
       "      <td>G</td>\n",
       "      <td>A</td>\n",
       "      <td>5000.0</td>\n",
       "      <td>PASS</td>\n",
       "      <td>.</td>\n",
       "      <td>GT:AD:DP:GQ:PL</td>\n",
       "      <td>0/1:107,80:187:99:2048,0,2917</td>\n",
       "    </tr>\n",
       "  </tbody>\n",
       "</table>\n",
       "</div>"
      ],
      "text/plain": [
       "  #CHROM        POS        ID REF ALT    QUAL FILTER INFO          FORMAT  \\\n",
       "0     13   32972626  CM082515   A   T  5000.0   PASS    .  GT:AD:DP:GQ:PL   \n",
       "1     11    5247153  CM082517   G   A  5000.0   PASS    .  GT:AD:DP:GQ:PL   \n",
       "2     11    5248219  CM082516   G   A  5000.0   PASS    .  GT:AD:DP:GQ:PL   \n",
       "3      2  480104003  CM082518       C  5000.0   PASS    .  GT:AD:DP:GQ:PL   \n",
       "4     10   43609076  CM082519   G   A  5000.0   PASS    .  GT:AD:DP:GQ:PL   \n",
       "\n",
       "                   test_sample_1  \n",
       "0  0/1:107,80:187:99:2048,0,2917  \n",
       "1  0/1:107,80:187:99:2048,0,2917  \n",
       "2  0/1:107,80:187:99:2048,0,2917  \n",
       "3  0/1:107,80:187:99:2048,0,2917  \n",
       "4  0/1:107,80:187:99:2048,0,2917  "
      ]
     },
     "execution_count": 14,
     "metadata": {},
     "output_type": "execute_result"
    }
   ],
   "source": [
    "file_name = os.path.join(ANALYSIS_DIR, \"test.vcf\")\n",
    "\n",
    "vcf_records = [brca2_vcf_record, hbb_2_vcf_record ,hbb_1_vcf_record, msh6_vcf_record, ret_vcf_record]\n",
    "df = pd.DataFrame(columns = vcf_columns, data=vcf_records)\n",
    "\n",
    "with open(file_name, 'w') as fp:\n",
    "    fp.write(vcf_info_line)\n",
    "    df.to_csv(fp, index=False, sep=\"\\t\")\n",
    "    \n",
    "df"
   ]
  },
  {
   "cell_type": "code",
   "execution_count": null,
   "metadata": {},
   "outputs": [],
   "source": []
  }
 ],
 "metadata": {
  "kernelspec": {
   "display_name": "Python 3",
   "language": "python",
   "name": "python3"
  },
  "language_info": {
   "codemirror_mode": {
    "name": "ipython",
    "version": 3
   },
   "file_extension": ".py",
   "mimetype": "text/x-python",
   "name": "python",
   "nbconvert_exporter": "python",
   "pygments_lexer": "ipython3",
   "version": "3.7.5"
  }
 },
 "nbformat": 4,
 "nbformat_minor": 4
}
