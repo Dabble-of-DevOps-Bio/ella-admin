{
 "cells": [
  {
   "cell_type": "markdown",
   "metadata": {},
   "source": [
    "# Parse Analysis from the REST API\n",
    "\n",
    "We can also get all the data we need from the REST API. This only takes into accounts filtered alleles."
   ]
  },
  {
   "cell_type": "markdown",
   "metadata": {},
   "source": [
    "## Authenticate the REST API"
   ]
  },
  {
   "cell_type": "code",
   "execution_count": 2,
   "metadata": {},
   "outputs": [],
   "source": [
    "import requests\n",
    "import json\n",
    "from pprint import pprint"
   ]
  },
  {
   "cell_type": "code",
   "execution_count": 3,
   "metadata": {},
   "outputs": [
    {
     "name": "stdout",
     "output_type": "stream",
     "text": [
      "{'AuthenticationToken': 'fb2e6d6bac61cb56de2decb663fa60fe637262b78d12b757fe317143e42b3660'}\n"
     ]
    }
   ],
   "source": [
    "session = requests.Session()\n",
    "\n",
    "url = 'http://ella-web:5000'\n",
    "user_data = {\"username\": \"testuser1\", \"password\": \"Password#123\"}\n",
    "session.post('{}/api/v1/users/actions/login/'.format(url), json=user_data)\n",
    "print(session.cookies.get_dict())"
   ]
  },
  {
   "cell_type": "code",
   "execution_count": 19,
   "metadata": {},
   "outputs": [],
   "source": [
    "# This would need to be updated for a multi sample analysis\n",
    "ANALYSIS_ID = 2"
   ]
  },
  {
   "cell_type": "markdown",
   "metadata": {},
   "source": [
    "### Get the Gene Panel"
   ]
  },
  {
   "cell_type": "code",
   "execution_count": 13,
   "metadata": {},
   "outputs": [
    {
     "name": "stdout",
     "output_type": "stream",
     "text": [
      "HBOCUTV\n",
      "v01\n",
      "{'date_deposited': '2020-10-19T10:46:43.419040+00:00',\n",
      " 'date_requested': None,\n",
      " 'genepanel': {'name': 'HBOCUTV', 'version': 'v01'},\n",
      " 'id': 2,\n",
      " 'interpretations': [{'analysis_id': 2,\n",
      "                      'date_last_update': '2020-11-28T06:44:25.638124+00:00',\n",
      "                      'finalized': True,\n",
      "                      'genepanel_name': 'HBOCUTV',\n",
      "                      'genepanel_version': 'v01',\n",
      "                      'id': 2,\n",
      "                      'status': 'Done',\n",
      "                      'user': {'abbrev_name': 'H. Ibsen',\n",
      "                               'active': True,\n",
      "                               'first_name': 'Henrik',\n",
      "                               'full_name': 'Henrik Ibsen',\n",
      "                               'id': 1,\n",
      "                               'last_name': 'Ibsen',\n",
      "                               'user_group_name': 'testgroup01',\n",
      "                               'username': 'testuser1'},\n",
      "                      'user_id': 1,\n",
      "                      'workflow_status': 'Interpretation'}],\n",
      " 'name': 'brca_sample_1.HBOCUTV_v01',\n",
      " 'report': None,\n",
      " 'samples': [{'affected': True,\n",
      "              'date_deposited': '2020-10-19T10:46:43.434024+00:00',\n",
      "              'family_id': None,\n",
      "              'father_id': None,\n",
      "              'id': 2,\n",
      "              'identifier': 'brca_sample_1',\n",
      "              'mother_id': None,\n",
      "              'proband': True,\n",
      "              'sample_type': 'HTS',\n",
      "              'sex': None,\n",
      "              'sibling_id': None}],\n",
      " 'warnings': None}\n"
     ]
    }
   ],
   "source": [
    "analysis_metadata = session.get('{}/api/v1/analyses/2'.format(url))\n",
    "analysis_metadata = json.loads(analysis_metadata.content.decode('utf-8'))\n",
    "genepanel_name, genepanel_version = analysis_metadata['genepanel']['name'], analysis_metadata['genepanel']['version']\n",
    "print(genepanel_name)\n",
    "print(genepanel_version)\n",
    "pprint(analysis_metadata)"
   ]
  },
  {
   "cell_type": "markdown",
   "metadata": {},
   "source": [
    "### Get the FilterConfig"
   ]
  },
  {
   "cell_type": "code",
   "execution_count": 18,
   "metadata": {},
   "outputs": [],
   "source": [
    "query_url = 'api/v1/workflows/analyses/2/filterconfigs/'\n",
    "response = session.get('{}/{}'.format(url, query_url))\n",
    "filterconfigs = json.loads(response.content.decode('utf-8'))\n",
    "#pprint(filter_configs)\n",
    "filterconfig_id = None\n",
    "for filterconfig in filterconfigs:\n",
    "    if filterconfig['active']:\n",
    "        filterconfig_id = filterconfig['id']\n",
    "        break\n",
    "        \n",
    "assert filterconfig_id is not None"
   ]
  },
  {
   "cell_type": "markdown",
   "metadata": {},
   "source": [
    "### Get The Filtered Alleles"
   ]
  },
  {
   "cell_type": "code",
   "execution_count": 8,
   "metadata": {},
   "outputs": [
    {
     "data": {
      "text/plain": [
       "[3, 4, 5, 6, 7, 8]"
      ]
     },
     "execution_count": 8,
     "metadata": {},
     "output_type": "execute_result"
    }
   ],
   "source": [
    "# get the filtered alleles\n",
    "query_url = 'api/v1/workflows/analyses/2/interpretations/2/filteredalleles/'\n",
    "\n",
    "# Note, to get not filtered alleles use the URL (this gives a different data structure!)\n",
    "# query_url = 'api/v1/workflows/analyses/2/interpretations/2/\n",
    "\n",
    "payload = {'filterconfig': filterconfig_id}\n",
    "response = session.get('{}/{}'.format(url, query_url), params=payload)\n",
    "response = json.loads(response.content.decode('utf-8'))\n",
    "allele_ids = response['allele_ids']\n",
    "allele_ids"
   ]
  },
  {
   "cell_type": "code",
   "execution_count": 25,
   "metadata": {},
   "outputs": [
    {
     "name": "stdout",
     "output_type": "stream",
     "text": [
      "{'allele_assessment': {'allele_id': 3,\n",
      "                       'analysis_id': 2,\n",
      "                       'annotation_id': 3,\n",
      "                       'attachment_ids': [],\n",
      "                       'classification': '4',\n",
      "                       'custom_annotation_id': None,\n",
      "                       'date_created': '2020-10-19T10:49:44.630277+00:00',\n",
      "                       'date_superceeded': None,\n",
      "                       'evaluation': {'acmg': {'included': [{'code': 'PVS1',\n",
      "                                                             'comment': '',\n",
      "                                                             'match': None,\n",
      "                                                             'op': None,\n",
      "                                                             'source': 'suggested',\n",
      "                                                             'uuid': '5104d287-683d-4391-a75b-5694c65f2b88'},\n",
      "                                                            {'code': 'PPxPM2',\n",
      "                                                             'comment': '',\n",
      "                                                             'match': None,\n",
      "                                                             'op': None,\n",
      "                                                             'source': 'suggested',\n",
      "                                                             'uuid': 'b44315f8-2db9-4605-b824-acf51e50ac31'}],\n",
      "                                               'suggested': [{'code': 'REQ_GP_last_exon_not_important',\n",
      "                                                              'match': ['LENI'],\n",
      "                                                              'op': '$in',\n",
      "                                                              'source': 'genepanel.last_exon_important'},\n",
      "                                                             {'code': 'REQ_GP_LOF_missense',\n",
      "                                                              'match': ['ANY'],\n",
      "                                                              'op': '$in',\n",
      "                                                              'source': 'genepanel.disease_mode'},\n",
      "                                                             {'code': 'REQ_not_in_last_exon',\n",
      "                                                              'match': ['no'],\n",
      "                                                              'op': '$in',\n",
      "                                                              'source': 'transcript.in_last_exon'},\n",
      "                                                             {'code': 'REQ_null_variant',\n",
      "                                                              'match': ['stop_gained'],\n",
      "                                                              'op': '$in',\n",
      "                                                              'source': 'transcript.consequences'},\n",
      "                                                             {'code': 'REQ_no_freq',\n",
      "                                                              'match': ['null_freq'],\n",
      "                                                              'op': '$in',\n",
      "                                                              'source': 'frequencies.commonness'},\n",
      "                                                             {'code': 'PVS1',\n",
      "                                                              'match': None,\n",
      "                                                              'op': None,\n",
      "                                                              'source': None},\n",
      "                                                             {'code': 'PPxPM2',\n",
      "                                                              'match': None,\n",
      "                                                              'op': None,\n",
      "                                                              'source': None}],\n",
      "                                               'suggested_classification': 4},\n",
      "                                      'classification': {'comment': ''},\n",
      "                                      'external': {'comment': ''},\n",
      "                                      'frequency': {'comment': ''},\n",
      "                                      'prediction': {'comment': ''},\n",
      "                                      'reference': {'comment': ''}},\n",
      "                       'genepanel_name': 'HBOCUTV',\n",
      "                       'genepanel_version': 'v01',\n",
      "                       'id': 1,\n",
      "                       'previous_assessment_id': None,\n",
      "                       'seconds_since_update': 3447886.719649,\n",
      "                       'user': {'abbrev_name': 'H. Ibsen',\n",
      "                                'active': True,\n",
      "                                'first_name': 'Henrik',\n",
      "                                'full_name': 'Henrik Ibsen',\n",
      "                                'id': 1,\n",
      "                                'last_name': 'Ibsen',\n",
      "                                'user_group_name': 'testgroup01',\n",
      "                                'username': 'testuser1'},\n",
      "                       'user_id': 1,\n",
      "                       'usergroup': {'id': 1, 'name': 'testgroup01'},\n",
      "                       'usergroup_id': 1},\n",
      " 'allele_report': {'allele_id': 3,\n",
      "                   'analysis_id': 2,\n",
      "                   'date_created': '2020-10-19T10:49:44.640931+00:00',\n",
      "                   'date_superceeded': None,\n",
      "                   'evaluation': {'comment': ''},\n",
      "                   'id': 1,\n",
      "                   'previous_report_id': None,\n",
      "                   'seconds_since_update': 3447886.733316,\n",
      "                   'user': {'abbrev_name': 'H. Ibsen',\n",
      "                            'active': True,\n",
      "                            'first_name': 'Henrik',\n",
      "                            'full_name': 'Henrik Ibsen',\n",
      "                            'id': 1,\n",
      "                            'last_name': 'Ibsen',\n",
      "                            'user_group_name': 'testgroup01',\n",
      "                            'username': 'testuser1'},\n",
      "                   'user_id': 1,\n",
      "                   'usergroup': {'id': 1, 'name': 'testgroup01'},\n",
      "                   'usergroup_id': 1},\n",
      " 'annotation': {'annotation_id': 3,\n",
      "                'external': {'CLINVAR': {'items': [{'clinical_significance_descr': 'Pathogenic',\n",
      "                                                    'last_evaluated': '01/11/2017',\n",
      "                                                    'rcv': 'SCV000296805',\n",
      "                                                    'submitter': 'GeneKor MSA',\n",
      "                                                    'traitnames': '',\n",
      "                                                    'variant_id': ''},\n",
      "                                                   {'clinical_significance_descr': 'Pathogenic',\n",
      "                                                    'last_evaluated': '18/10/2016',\n",
      "                                                    'rcv': 'SCV000323955',\n",
      "                                                    'submitter': 'ENIGMA',\n",
      "                                                    'traitnames': '',\n",
      "                                                    'variant_id': ''},\n",
      "                                                   {'clinical_significance_descr': 'Pathogenic',\n",
      "                                                    'last_evaluated': '18/10/2016',\n",
      "                                                    'rcv': 'RCV000257718',\n",
      "                                                    'submitter': '',\n",
      "                                                    'traitnames': 'Breast-ovarian '\n",
      "                                                                  'cancer, '\n",
      "                                                                  'familial 2',\n",
      "                                                    'variant_id': '51063'},\n",
      "                                                   {'clinical_significance_descr': 'Pathogenic',\n",
      "                                                    'last_evaluated': '01/11/2017',\n",
      "                                                    'rcv': 'RCV000239090',\n",
      "                                                    'submitter': '',\n",
      "                                                    'traitnames': 'not '\n",
      "                                                                  'provided',\n",
      "                                                    'variant_id': '51063'},\n",
      "                                                   {'clinical_significance_descr': 'Pathogenic',\n",
      "                                                    'last_evaluated': '02/10/2015',\n",
      "                                                    'rcv': 'SCV000326495',\n",
      "                                                    'submitter': 'CIMBA',\n",
      "                                                    'traitnames': '',\n",
      "                                                    'variant_id': ''}],\n",
      "                                         'variant_description': 'reviewed by '\n",
      "                                                                'expert panel',\n",
      "                                         'variant_id': 51063},\n",
      "                             'HGMD': {'acc_num': 'CM082514',\n",
      "                                      'codon': 4,\n",
      "                                      'disease': 'Breast and/or ovarian cancer',\n",
      "                                      'tag': 'DM'}},\n",
      "                'filtered_transcripts': ['NM_000059.3'],\n",
      "                'frequencies': {},\n",
      "                'prediction': {},\n",
      "                'references': [{'pubmed_id': 17453335,\n",
      "                                'source_info': {'HGMD': 'Primary literature '\n",
      "                                                        'report. No comments.'},\n",
      "                                'sources': ['HGMD']}],\n",
      "                'schema_version': 1,\n",
      "                'transcripts': [{'HGVSc': 'c.10G>T',\n",
      "                                 'HGVSc_short': 'c.10G>T',\n",
      "                                 'HGVSp': 'p.Gly4Ter',\n",
      "                                 'amino_acids': 'G/*',\n",
      "                                 'coding_region_distance': 0,\n",
      "                                 'codons': 'Gga/Tga',\n",
      "                                 'consequences': ['stop_gained'],\n",
      "                                 'dbsnp': ['rs397507571'],\n",
      "                                 'exon': '2/27',\n",
      "                                 'exon_distance': 0,\n",
      "                                 'hgnc_id': 1101,\n",
      "                                 'in_last_exon': 'no',\n",
      "                                 'is_canonical': True,\n",
      "                                 'protein': 'NP_000050.2',\n",
      "                                 'strand': 1,\n",
      "                                 'symbol': 'BRCA2',\n",
      "                                 'transcript': 'NM_000059.3'},\n",
      "                                {'consequences': ['upstream_gene_variant'],\n",
      "                                 'dbsnp': ['rs397507571'],\n",
      "                                 'hgnc_id': 37116,\n",
      "                                 'in_last_exon': 'no',\n",
      "                                 'is_canonical': True,\n",
      "                                 'strand': -1,\n",
      "                                 'symbol': 'ZAR1L',\n",
      "                                 'transcript': 'NM_001136571.1'}],\n",
      "                'worst_consequence': ['NM_000059.3']},\n",
      " 'change_from': 'G',\n",
      " 'change_to': 'T',\n",
      " 'change_type': 'SNP',\n",
      " 'chromosome': '13',\n",
      " 'genome_reference': 'GRCh37',\n",
      " 'id': 3,\n",
      " 'open_end_position': 32890607,\n",
      " 'samples': [{'affected': True,\n",
      "              'date_deposited': '2020-10-19T10:46:43.434024+00:00',\n",
      "              'family_id': None,\n",
      "              'father_id': None,\n",
      "              'genotype': {'allele_depth': {'REF (G)': 107, 'T': 80},\n",
      "                           'allele_ratio': 0.42780748663101603,\n",
      "                           'filter_status': 'PASS',\n",
      "                           'formatted': 'G/T',\n",
      "                           'genotype_quality': 99,\n",
      "                           'id': 3,\n",
      "                           'multiallelic': False,\n",
      "                           'needs_verification': False,\n",
      "                           'needs_verification_checks': {'allele_ratio': True,\n",
      "                                                         'dp': True,\n",
      "                                                         'hts': True,\n",
      "                                                         'pass': True,\n",
      "                                                         'snp': True},\n",
      "                           'sequencing_depth': 187,\n",
      "                           'type': 'Heterozygous',\n",
      "                           'variant_quality': 5000},\n",
      "              'id': 2,\n",
      "              'identifier': 'brca_sample_1',\n",
      "              'mother_id': None,\n",
      "              'proband': True,\n",
      "              'sample_type': 'HTS',\n",
      "              'sex': None,\n",
      "              'sibling_id': None}],\n",
      " 'start_position': 32890606,\n",
      " 'tags': ['has_references'],\n",
      " 'vcf_alt': 'T',\n",
      " 'vcf_pos': 32890607,\n",
      " 'vcf_ref': 'G'}\n"
     ]
    }
   ],
   "source": [
    "query_url = 'api/v1/workflows/analyses/2/interpretations/2/alleles/'\n",
    "\n",
    "# Allele Ids needs to be a string with comma separated values, not a list!\n",
    "payload = {\n",
    "            'allele_ids': ','.join([str(x) for x in allele_ids]), \n",
    "            'current': True, \n",
    "            'filterconfig_id': filterconfig_id\n",
    "          }\n",
    "alelle_assessments = session.get('{}/{}'.format(url, query_url), params=payload)\n",
    "allele_assessments = json.loads(alelle_assessments.content.decode('utf-8'))\n",
    "pprint(allele_assessments[0])"
   ]
  },
  {
   "cell_type": "code",
   "execution_count": 10,
   "metadata": {},
   "outputs": [],
   "source": [
    "# Let's double check and make sure we got all the alleles\n",
    "assert len(response) == len(allele_ids)"
   ]
  },
  {
   "cell_type": "markdown",
   "metadata": {},
   "source": [
    "## Generate Report Data"
   ]
  },
  {
   "cell_type": "code",
   "execution_count": 28,
   "metadata": {},
   "outputs": [],
   "source": [
    "report_data = {}\n",
    "report_data['allele_assessments'] = allele_assessments\n",
    "report_data['analysis_metadata'] = analysis_metadata\n",
    "report_data['filterconfigs'] = filterconfigs"
   ]
  },
  {
   "cell_type": "code",
   "execution_count": 31,
   "metadata": {},
   "outputs": [],
   "source": [
    "import json\n",
    "with open('/data/analysis_rest_api_data.json', 'w') as fp:\n",
    "    json.dump(report_data, fp, sort_keys=True, indent=4)"
   ]
  }
 ],
 "metadata": {
  "kernelspec": {
   "display_name": "Python 3",
   "language": "python",
   "name": "python3"
  },
  "language_info": {
   "codemirror_mode": {
    "name": "ipython",
    "version": 3
   },
   "file_extension": ".py",
   "mimetype": "text/x-python",
   "name": "python",
   "nbconvert_exporter": "python",
   "pygments_lexer": "ipython3",
   "version": "3.7.5"
  }
 },
 "nbformat": 4,
 "nbformat_minor": 4
}
